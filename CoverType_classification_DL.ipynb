{
  "cells": [
    {
      "cell_type": "markdown",
      "metadata": {
        "id": "view-in-github",
        "colab_type": "text"
      },
      "source": [
        "<a href=\"https://colab.research.google.com/github/crodier1/data_science/blob/main/CoverType_classification_DL.ipynb\" target=\"_parent\"><img src=\"https://colab.research.google.com/assets/colab-badge.svg\" alt=\"Open In Colab\"/></a>"
      ]
    },
    {
      "cell_type": "code",
      "execution_count": null,
      "metadata": {
        "id": "pNTs8ZUSSiBJ"
      },
      "outputs": [],
      "source": [
        "import pandas as pd\n",
        "from sklearn.preprocessing import StandardScaler, LabelEncoder\n",
        "from sklearn.model_selection import train_test_split\n",
        "from collections import Counter\n",
        "from sklearn.compose import ColumnTransformer\n",
        "from tensorflow.keras.models import Sequential\n",
        "from tensorflow.keras.layers import Dense, InputLayer\n",
        "from sklearn.metrics import classification_report\n",
        "from tensorflow.keras.utils import to_categorical\n",
        "import numpy as np\n",
        "from scipy.stats.mstats import winsorize"
      ]
    },
    {
      "cell_type": "code",
      "source": [
        "dataset = pd.read_csv('cover_data.csv')"
      ],
      "metadata": {
        "id": "64RiPxzfTCdc"
      },
      "execution_count": null,
      "outputs": []
    },
    {
      "cell_type": "code",
      "source": [
        "# def percentile_capping(df, cols, low_end, high_end):\n",
        "#   winsorize(a=df[cols], limits=(low_end, high_end),inplace=True)\n",
        "\n",
        "\n",
        "# percentile_capping(dataset, dataset.columns, .01, .01)"
      ],
      "metadata": {
        "id": "G-vCRcT3lorA"
      },
      "execution_count": null,
      "outputs": []
    },
    {
      "cell_type": "code",
      "source": [
        "# dataset.columns"
      ],
      "metadata": {
        "id": "bzDNsxMVS3Xj"
      },
      "execution_count": null,
      "outputs": []
    },
    {
      "cell_type": "code",
      "source": [
        "y = dataset['class']\n",
        "\n",
        "x = dataset.drop(['class'], axis=1)\n",
        "\n",
        "columns = x.shape[1]"
      ],
      "metadata": {
        "id": "NI065T-UV0ZJ"
      },
      "execution_count": null,
      "outputs": []
    },
    {
      "cell_type": "code",
      "source": [
        "ct = StandardScaler()\n",
        "\n",
        "x = ct.fit_transform(x)"
      ],
      "metadata": {
        "id": "-hl3KihIWVUF"
      },
      "execution_count": null,
      "outputs": []
    },
    {
      "cell_type": "code",
      "source": [
        "X_train, X_test, Y_train, Y_test = train_test_split(x, y, test_size=0.33, random_state=42, stratify=y)"
      ],
      "metadata": {
        "id": "dpQvYMhRM0On"
      },
      "execution_count": null,
      "outputs": []
    },
    {
      "cell_type": "code",
      "source": [
        "le = LabelEncoder()\n",
        "Y_train = le.fit_transform(Y_train)\n",
        "Y_test = le.transform(Y_test)\n",
        "Y_train = to_categorical(Y_train)\n",
        "Y_test = to_categorical(Y_test)"
      ],
      "metadata": {
        "id": "pouscIOPO4YM"
      },
      "execution_count": null,
      "outputs": []
    },
    {
      "cell_type": "code",
      "source": [
        "model = Sequential()\n",
        "input = InputLayer(input_shape= (columns,))\n",
        "model.add(input)\n",
        "\n",
        "model.add(Dense(128, activation='relu'))\n",
        "model.add(Dense(128, activation='relu'))\n",
        "\n",
        "model.add(Dense(len(y.unique()), activation='softmax'))\n",
        "\n",
        "model.compile(loss=['categorical_crossentropy'], optimizer='adam', metrics=['accuracy'])\n"
      ],
      "metadata": {
        "id": "y8fbI-mOM4sH"
      },
      "execution_count": null,
      "outputs": []
    },
    {
      "cell_type": "code",
      "source": [
        "model.fit(X_train, Y_train, epochs=8, batch_size=32, validation_data = (X_test,Y_test))"
      ],
      "metadata": {
        "colab": {
          "base_uri": "https://localhost:8080/"
        },
        "id": "E9t6HRgwNRGL",
        "outputId": "13705f0a-3a39-411f-b522-6105d20eb503"
      },
      "execution_count": null,
      "outputs": [
        {
          "output_type": "stream",
          "name": "stdout",
          "text": [
            "Epoch 1/8\n",
            "12165/12165 [==============================] - 74s 6ms/step - loss: 0.5163 - accuracy: 0.7796 - val_loss: 0.4252 - val_accuracy: 0.8230\n",
            "Epoch 2/8\n",
            "12165/12165 [==============================] - 53s 4ms/step - loss: 0.3931 - accuracy: 0.8348 - val_loss: 0.3688 - val_accuracy: 0.8484\n",
            "Epoch 3/8\n",
            "12165/12165 [==============================] - 55s 4ms/step - loss: 0.3478 - accuracy: 0.8552 - val_loss: 0.3391 - val_accuracy: 0.8598\n",
            "Epoch 4/8\n",
            "12165/12165 [==============================] - 68s 6ms/step - loss: 0.3203 - accuracy: 0.8675 - val_loss: 0.3100 - val_accuracy: 0.8733\n",
            "Epoch 5/8\n",
            "12165/12165 [==============================] - 55s 5ms/step - loss: 0.3007 - accuracy: 0.8769 - val_loss: 0.2967 - val_accuracy: 0.8784\n",
            "Epoch 6/8\n",
            "12165/12165 [==============================] - 54s 4ms/step - loss: 0.2864 - accuracy: 0.8828 - val_loss: 0.2880 - val_accuracy: 0.8827\n",
            "Epoch 7/8\n",
            "12165/12165 [==============================] - 50s 4ms/step - loss: 0.2755 - accuracy: 0.8879 - val_loss: 0.2742 - val_accuracy: 0.8894\n",
            "Epoch 8/8\n",
            "12165/12165 [==============================] - 51s 4ms/step - loss: 0.2665 - accuracy: 0.8917 - val_loss: 0.2711 - val_accuracy: 0.8913\n"
          ]
        },
        {
          "output_type": "execute_result",
          "data": {
            "text/plain": [
              "<keras.callbacks.History at 0x7f65fee7f8b0>"
            ]
          },
          "metadata": {},
          "execution_count": 25
        }
      ]
    },
    {
      "cell_type": "code",
      "source": [
        "loss, acc = model.evaluate(X_test, Y_test)\n",
        "\n",
        "print('loss = ',loss, 'accuracy=', acc)"
      ],
      "metadata": {
        "colab": {
          "base_uri": "https://localhost:8080/"
        },
        "id": "fTX-sQW4RkPo",
        "outputId": "7b52a3db-d3af-4b35-bb32-02d9b978fada"
      },
      "execution_count": null,
      "outputs": [
        {
          "output_type": "stream",
          "name": "stdout",
          "text": [
            "5992/5992 [==============================] - 15s 2ms/step - loss: 0.2711 - accuracy: 0.8913\n",
            "loss =  0.27108362317085266 accuracy= 0.8913129568099976\n"
          ]
        }
      ]
    },
    {
      "cell_type": "code",
      "source": [
        "y_estimate = model.predict(X_test)\n",
        "y_estimate = np.argmax(y_estimate, axis=1)\n",
        "y_true = np.argmax(Y_test, axis=1)\n",
        "print(classification_report(y_true, y_estimate))"
      ],
      "metadata": {
        "colab": {
          "base_uri": "https://localhost:8080/"
        },
        "id": "WNhQgwm1R8Zh",
        "outputId": "0376850d-85c4-46fd-d068-c68685c700b3"
      },
      "execution_count": null,
      "outputs": [
        {
          "output_type": "stream",
          "name": "stdout",
          "text": [
            "5992/5992 [==============================] - 11s 2ms/step\n",
            "              precision    recall  f1-score   support\n",
            "\n",
            "           0       0.89      0.89      0.89     69907\n",
            "           1       0.90      0.91      0.91     93489\n",
            "           2       0.88      0.87      0.87     11799\n",
            "           3       0.69      0.79      0.74       907\n",
            "           4       0.79      0.65      0.71      3133\n",
            "           5       0.76      0.80      0.78      5731\n",
            "           6       0.94      0.85      0.90      6768\n",
            "\n",
            "    accuracy                           0.89    191734\n",
            "   macro avg       0.84      0.82      0.83    191734\n",
            "weighted avg       0.89      0.89      0.89    191734\n",
            "\n"
          ]
        }
      ]
    }
  ],
  "metadata": {
    "kernelspec": {
      "display_name": "Python 3.7 (tensorflow)",
      "language": "python",
      "name": "tensorflow"
    },
    "language_info": {
      "codemirror_mode": {
        "name": "ipython",
        "version": 3
      },
      "file_extension": ".py",
      "mimetype": "text/x-python",
      "name": "python",
      "nbconvert_exporter": "python",
      "pygments_lexer": "ipython3",
      "version": "3.7.6"
    },
    "colab": {
      "provenance": [],
      "include_colab_link": true
    }
  },
  "nbformat": 4,
  "nbformat_minor": 0
}