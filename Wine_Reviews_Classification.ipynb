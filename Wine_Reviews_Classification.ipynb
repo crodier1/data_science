{
  "nbformat": 4,
  "nbformat_minor": 0,
  "metadata": {
    "colab": {
      "provenance": [],
      "authorship_tag": "ABX9TyPC8L+bZvqX2AMbcjs3aum2",
      "include_colab_link": true
    },
    "kernelspec": {
      "name": "python3",
      "display_name": "Python 3"
    },
    "language_info": {
      "name": "python"
    }
  },
  "cells": [
    {
      "cell_type": "markdown",
      "metadata": {
        "id": "view-in-github",
        "colab_type": "text"
      },
      "source": [
        "<a href=\"https://colab.research.google.com/github/crodier1/data_science/blob/main/Wine_Reviews_Classification.ipynb\" target=\"_parent\"><img src=\"https://colab.research.google.com/assets/colab-badge.svg\" alt=\"Open In Colab\"/></a>"
      ]
    },
    {
      "cell_type": "code",
      "execution_count": null,
      "metadata": {
        "id": "l-HhZJdNml31"
      },
      "outputs": [],
      "source": [
        "import numpy as np\n",
        "import pandas as pd\n",
        "import tensorflow as tf\n",
        "import tensorflow_hub as hub\n",
        "import matplotlib.pyplot as plt\n",
        "from tensorflow.keras import regularizers"
      ]
    },
    {
      "cell_type": "code",
      "source": [
        "dataset = pd.read_csv('wine-reviews.csv')[['description', 'points']]"
      ],
      "metadata": {
        "id": "zP5irW8ymvfy"
      },
      "execution_count": null,
      "outputs": []
    },
    {
      "cell_type": "code",
      "source": [
        "dataset.points = (dataset.points >= 90).astype(int)"
      ],
      "metadata": {
        "id": "wqdeXrTjmxX1"
      },
      "execution_count": null,
      "outputs": []
    },
    {
      "cell_type": "code",
      "source": [
        "train, val, test = np.split(dataset.sample(frac=1), [int(.85 * len(dataset)), int(.9 * len(dataset))])"
      ],
      "metadata": {
        "id": "cApETlmIm0eh"
      },
      "execution_count": null,
      "outputs": []
    },
    {
      "cell_type": "code",
      "source": [
        "def df_to_dataset(dataframe, shuffle=True, batch_size=1024):\n",
        "  df = dataframe.copy()\n",
        "  labels = df.pop('points')\n",
        "  df = df.description\n",
        "  ds = tf.data.Dataset.from_tensor_slices((df, labels))\n",
        "  if shuffle:\n",
        "    ds = ds.shuffle(buffer_size=len(dataframe))\n",
        "  ds = ds.batch(batch_size)\n",
        "  ds = ds.prefetch(tf.data.AUTOTUNE)\n",
        "  return ds"
      ],
      "metadata": {
        "id": "3h0ujsmZm1BB"
      },
      "execution_count": null,
      "outputs": []
    },
    {
      "cell_type": "code",
      "source": [
        "train = df_to_dataset(train)\n",
        "val = df_to_dataset(val)\n",
        "test = df_to_dataset(test)"
      ],
      "metadata": {
        "id": "Bes1X2pkm2v1"
      },
      "execution_count": null,
      "outputs": []
    },
    {
      "cell_type": "code",
      "source": [
        "encoder = tf.keras.layers.TextVectorization(max_tokens=2000)\n",
        "encoder.adapt(train.map(lambda text, label : text))"
      ],
      "metadata": {
        "id": "TZNE7UNAm4ZL"
      },
      "execution_count": null,
      "outputs": []
    },
    {
      "cell_type": "code",
      "source": [
        "model = tf.keras.Sequential([\n",
        "                             encoder,\n",
        "                             tf.keras.layers.Embedding(input_dim = len(encoder.get_vocabulary()),\n",
        "                              output_dim = 32,\n",
        "                              mask_zero= True\n",
        "                             ),\n",
        "                             tf.keras.layers.LSTM(32),\n",
        "                             tf.keras.layers.Dense(32),\n",
        "                             tf.keras.layers.Dense(32, activation='relu'),\n",
        "                             tf.keras.layers.Dropout(.4),\n",
        "                             tf.keras.layers.Dense(1, activation='sigmoid')\n",
        "                             \n",
        "                             ])"
      ],
      "metadata": {
        "id": "B_6JgVQInge6"
      },
      "execution_count": null,
      "outputs": []
    },
    {
      "cell_type": "code",
      "source": [
        "model.compile(optimizer=tf.keras.optimizers.Adam(learning_rate=.001),\n",
        "              loss=tf.keras.losses.BinaryCrossentropy(), \n",
        "              metrics=['accuracy']\n",
        "              )\n"
      ],
      "metadata": {
        "id": "K8U4g41zppgb"
      },
      "execution_count": null,
      "outputs": []
    },
    {
      "cell_type": "code",
      "source": [
        "model.evaluate(train)"
      ],
      "metadata": {
        "colab": {
          "base_uri": "https://localhost:8080/"
        },
        "id": "TZCvE-6Ip0-e",
        "outputId": "844efd79-a2c3-4478-80c0-88e427ef8a19"
      },
      "execution_count": null,
      "outputs": [
        {
          "output_type": "stream",
          "name": "stdout",
          "text": [
            "108/108 [==============================] - 22s 169ms/step - loss: 0.6929 - accuracy: 0.5318\n"
          ]
        },
        {
          "output_type": "execute_result",
          "data": {
            "text/plain": [
              "[0.6929247379302979, 0.5317673683166504]"
            ]
          },
          "metadata": {},
          "execution_count": 87
        }
      ]
    },
    {
      "cell_type": "code",
      "source": [
        "model.evaluate(val)"
      ],
      "metadata": {
        "colab": {
          "base_uri": "https://localhost:8080/"
        },
        "id": "Yf50hsxdqstN",
        "outputId": "b8fe179a-164f-4f87-d53a-74ea9349554b"
      },
      "execution_count": null,
      "outputs": [
        {
          "output_type": "stream",
          "name": "stdout",
          "text": [
            "7/7 [==============================] - 1s 154ms/step - loss: 0.6930 - accuracy: 0.5243\n"
          ]
        },
        {
          "output_type": "execute_result",
          "data": {
            "text/plain": [
              "[0.692973792552948, 0.5243151783943176]"
            ]
          },
          "metadata": {},
          "execution_count": 88
        }
      ]
    },
    {
      "cell_type": "code",
      "source": [
        "history = model.fit(train, epochs=5, validation_data = val)"
      ],
      "metadata": {
        "colab": {
          "base_uri": "https://localhost:8080/"
        },
        "id": "Y1gf7CLhqrG_",
        "outputId": "e275b2f3-ee02-449a-b1e9-ba6d72fb124e"
      },
      "execution_count": null,
      "outputs": [
        {
          "output_type": "stream",
          "name": "stdout",
          "text": [
            "Epoch 1/5\n",
            "108/108 [==============================] - 56s 473ms/step - loss: 0.4900 - accuracy: 0.7507 - val_loss: 0.3598 - val_accuracy: 0.8321\n",
            "Epoch 2/5\n",
            "108/108 [==============================] - 50s 463ms/step - loss: 0.3571 - accuracy: 0.8400 - val_loss: 0.3460 - val_accuracy: 0.8410\n",
            "Epoch 3/5\n",
            "108/108 [==============================] - 51s 470ms/step - loss: 0.3463 - accuracy: 0.8454 - val_loss: 0.3481 - val_accuracy: 0.8415\n",
            "Epoch 4/5\n",
            "108/108 [==============================] - 50s 461ms/step - loss: 0.3415 - accuracy: 0.8476 - val_loss: 0.3452 - val_accuracy: 0.8378\n",
            "Epoch 5/5\n",
            "108/108 [==============================] - 50s 461ms/step - loss: 0.3354 - accuracy: 0.8499 - val_loss: 0.3437 - val_accuracy: 0.8416\n"
          ]
        }
      ]
    },
    {
      "cell_type": "code",
      "source": [
        "plt.plot(history.history['accuracy'], label='Training Accuracy')\n",
        "plt.plot(history.history['val_accuracy'], label='Validation Accuracy')\n",
        "plt.legend()\n",
        "plt.show()"
      ],
      "metadata": {
        "colab": {
          "base_uri": "https://localhost:8080/",
          "height": 265
        },
        "id": "3A_m1UMHsDN2",
        "outputId": "c013ded1-36ee-4f7c-db8d-78ad1cf1c3c7"
      },
      "execution_count": null,
      "outputs": [
        {
          "output_type": "display_data",
          "data": {
            "text/plain": [
              "<Figure size 432x288 with 1 Axes>"
            ],
            "image/png": "[encoded data removed]"
          },
          "metadata": {
            "needs_background": "light"
          }
        }
      ]
    },
    {
      "cell_type": "code",
      "source": [
        "plt.plot(history.history['loss'], label='Training Accuracy')\n",
        "plt.plot(history.history['val_loss'], label='Validation Accuracy')\n",
        "plt.legend()\n",
        "plt.show()"
      ],
      "metadata": {
        "colab": {
          "base_uri": "https://localhost:8080/",
          "height": 265
        },
        "id": "uf-yt8TmsUc9",
        "outputId": "5362a83e-f903-4312-c2be-0254ba8da0b1"
      },
      "execution_count": null,
      "outputs": [
        {
          "output_type": "display_data",
          "data": {
            "text/plain": [
              "<Figure size 432x288 with 1 Axes>"
            ],
            "image/png": "[encoded data removed]"
          },
          "metadata": {
            "needs_background": "light"
          }
        }
      ]
    },
    {
      "cell_type": "code",
      "source": [
        "model.evaluate(test)"
      ],
      "metadata": {
        "colab": {
          "base_uri": "https://localhost:8080/"
        },
        "id": "OXG_5iR0scMD",
        "outputId": "8653dc5a-d913-46b8-929b-826ab7d61dcf"
      },
      "execution_count": null,
      "outputs": [
        {
          "output_type": "stream",
          "name": "stdout",
          "text": [
            "13/13 [==============================] - 2s 164ms/step - loss: 0.3488 - accuracy: 0.8407\n"
          ]
        },
        {
          "output_type": "execute_result",
          "data": {
            "text/plain": [
              "[0.34878095984458923, 0.8406677842140198]"
            ]
          },
          "metadata": {},
          "execution_count": 21
        }
      ]
    }
  ]
}