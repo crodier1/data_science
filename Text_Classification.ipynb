{
  "nbformat": 4,
  "nbformat_minor": 0,
  "metadata": {
    "colab": {
      "provenance": [],
      "authorship_tag": "ABX9TyMBwkxNvW04j9wJV2P6urbc",
      "include_colab_link": true
    },
    "kernelspec": {
      "name": "python3",
      "display_name": "Python 3"
    },
    "language_info": {
      "name": "python"
    }
  },
  "cells": [
    {
      "cell_type": "markdown",
      "metadata": {
        "id": "view-in-github",
        "colab_type": "text"
      },
      "source": [
        "<a href=\"https://colab.research.google.com/github/crodier1/data_science/blob/main/Text_Classification.ipynb\" target=\"_parent\"><img src=\"https://colab.research.google.com/assets/colab-badge.svg\" alt=\"Open In Colab\"/></a>"
      ]
    },
    {
      "cell_type": "code",
      "execution_count": null,
      "metadata": {
        "id": "M77QbMsGsixi"
      },
      "outputs": [],
      "source": [
        "import numpy as np\n",
        "import pandas as pd\n",
        "import tensorflow as tf\n",
        "import tensorflow_hub as hub\n",
        "import matplotlib.pyplot as plt\n",
        "from tensorflow.keras import regularizers"
      ]
    },
    {
      "cell_type": "code",
      "source": [
        "dataset = pd.read_csv('wine-reviews.csv')[['description', 'points']]"
      ],
      "metadata": {
        "id": "PJLgFHkTswsd"
      },
      "execution_count": null,
      "outputs": []
    },
    {
      "cell_type": "code",
      "source": [
        "dataset.points = (dataset.points >= 90).astype(int)"
      ],
      "metadata": {
        "id": "s8v3C14XHn-s"
      },
      "execution_count": null,
      "outputs": []
    },
    {
      "cell_type": "code",
      "source": [
        "train, val, test = np.split(dataset.sample(frac=1), [int(.85 * len(dataset)), int(.9 * len(dataset))])"
      ],
      "metadata": {
        "id": "b_tjKzanttQs"
      },
      "execution_count": null,
      "outputs": []
    },
    {
      "cell_type": "code",
      "source": [
        "def df_to_dataset(dataframe, shuffle=True, batch_size=1024):\n",
        "  df = dataframe.copy()\n",
        "  labels = df.pop('points')\n",
        "  df = df.description\n",
        "  ds = tf.data.Dataset.from_tensor_slices((df, labels))\n",
        "  if shuffle:\n",
        "    ds = ds.shuffle(buffer_size=len(dataframe))\n",
        "  ds = ds.batch(batch_size)\n",
        "  ds = ds.prefetch(tf.data.AUTOTUNE)\n",
        "  return ds"
      ],
      "metadata": {
        "id": "-FJzabVGEv0o"
      },
      "execution_count": null,
      "outputs": []
    },
    {
      "cell_type": "code",
      "source": [
        "train = df_to_dataset(train)\n",
        "val = df_to_dataset(val)\n",
        "test = df_to_dataset(test)"
      ],
      "metadata": {
        "id": "NItXb4UvGdDq"
      },
      "execution_count": null,
      "outputs": []
    },
    {
      "cell_type": "code",
      "source": [
        "embedding = \"https://tfhub.dev/google/nnlm-en-dim128/2\"\n",
        "\n",
        "hub_layer = hub.KerasLayer(embedding, dtype=tf.string, trainable=True )"
      ],
      "metadata": {
        "id": "CZuNbPxyI23b"
      },
      "execution_count": null,
      "outputs": []
    },
    {
      "cell_type": "code",
      "source": [
        "model = tf.keras.Sequential()\n",
        "model.add(hub_layer)\n",
        "model.add(tf.keras.layers.Dense(16, activation='relu', kernel_regularizer= regularizers.L2(.01)))\n",
        "model.add(tf.keras.layers.Dropout(.2))\n",
        "model.add(tf.keras.layers.Dense(16, activation='relu',  kernel_regularizer= regularizers.L2(.01)))\n",
        "model.add(tf.keras.layers.Dropout(.2))\n",
        "\n",
        "model.add(tf.keras.layers.Dense(1, activation='sigmoid'))"
      ],
      "metadata": {
        "id": "M5bELE-AJV0R"
      },
      "execution_count": null,
      "outputs": []
    },
    {
      "cell_type": "code",
      "source": [
        "model.compile(optimizer=tf.keras.optimizers.Adam(learning_rate=.001),\n",
        "              loss=tf.keras.losses.BinaryCrossentropy(), \n",
        "              metrics=['accuracy']\n",
        "              )"
      ],
      "metadata": {
        "id": "IKaAgZieKl7c"
      },
      "execution_count": null,
      "outputs": []
    },
    {
      "cell_type": "code",
      "source": [
        "model.evaluate(train)"
      ],
      "metadata": {
        "colab": {
          "base_uri": "https://localhost:8080/"
        },
        "id": "B_OGou4FLFnA",
        "outputId": "8c4d279c-f1a0-4953-e9c7-5c2c8afe15ab"
      },
      "execution_count": null,
      "outputs": [
        {
          "output_type": "stream",
          "name": "stdout",
          "text": [
            "108/108 [==============================] - 2s 14ms/step - loss: 1.1362 - accuracy: 0.5470\n"
          ]
        },
        {
          "output_type": "execute_result",
          "data": {
            "text/plain": [
              "[1.1362324953079224, 0.5469925403594971]"
            ]
          },
          "metadata": {},
          "execution_count": 27
        }
      ]
    },
    {
      "cell_type": "code",
      "source": [
        "model.evaluate(val)"
      ],
      "metadata": {
        "colab": {
          "base_uri": "https://localhost:8080/"
        },
        "id": "tyVUFZw3LVf2",
        "outputId": "3d08cfb6-70d1-4c43-d67a-f86dbae40257"
      },
      "execution_count": null,
      "outputs": [
        {
          "output_type": "stream",
          "name": "stdout",
          "text": [
            "7/7 [==============================] - 0s 13ms/step - loss: 1.1372 - accuracy: 0.5352\n"
          ]
        },
        {
          "output_type": "execute_result",
          "data": {
            "text/plain": [
              "[1.1372411251068115, 0.5352416038513184]"
            ]
          },
          "metadata": {},
          "execution_count": 28
        }
      ]
    },
    {
      "cell_type": "code",
      "source": [
        "history = model.fit(train, epochs=5, validation_data = val)"
      ],
      "metadata": {
        "colab": {
          "base_uri": "https://localhost:8080/"
        },
        "id": "sUQtmnCWLuDs",
        "outputId": "e7b74029-d6e0-48a8-f73d-a02edeb26070"
      },
      "execution_count": null,
      "outputs": [
        {
          "output_type": "stream",
          "name": "stdout",
          "text": [
            "Epoch 1/5\n",
            "108/108 [==============================] - 155s 1s/step - loss: 0.6302 - accuracy: 0.7944 - val_loss: 0.5155 - val_accuracy: 0.8232\n",
            "Epoch 2/5\n",
            "108/108 [==============================] - 149s 1s/step - loss: 0.4784 - accuracy: 0.8324 - val_loss: 0.4471 - val_accuracy: 0.8315\n",
            "Epoch 3/5\n",
            "108/108 [==============================] - 150s 1s/step - loss: 0.4191 - accuracy: 0.8474 - val_loss: 0.4204 - val_accuracy: 0.8366\n",
            "Epoch 4/5\n",
            "108/108 [==============================] - 152s 1s/step - loss: 0.3868 - accuracy: 0.8575 - val_loss: 0.4053 - val_accuracy: 0.8400\n",
            "Epoch 5/5\n",
            "108/108 [==============================] - 150s 1s/step - loss: 0.3654 - accuracy: 0.8662 - val_loss: 0.4015 - val_accuracy: 0.8389\n"
          ]
        }
      ]
    },
    {
      "cell_type": "code",
      "source": [
        "plt.plot(history.history['accuracy'], label='Training Accuracy')\n",
        "plt.plot(history.history['val_accuracy'], label='Validation Accuracy')\n",
        "plt.show()"
      ],
      "metadata": {
        "colab": {
          "base_uri": "https://localhost:8080/",
          "height": 265
        },
        "id": "sqvIrxvbMQBZ",
        "outputId": "358d5f54-8232-4a0b-ab03-78c985a03673"
      },
      "execution_count": null,
      "outputs": [
        {
          "output_type": "display_data",
          "data": {
            "text/plain": [
              "<Figure size 432x288 with 1 Axes>"
            ],
            "image/png": "[encoded data removed]"
          },
          "metadata": {
            "needs_background": "light"
          }
        }
      ]
    },
    {
      "cell_type": "code",
      "source": [
        "plt.plot(history.history['loss'], label='Training Accuracy')\n",
        "plt.plot(history.history['val_loss'], label='Validation Accuracy')\n",
        "plt.show()"
      ],
      "metadata": {
        "colab": {
          "base_uri": "https://localhost:8080/",
          "height": 265
        },
        "id": "UGxNZxQlkDgf",
        "outputId": "a1075210-f01e-45b6-eb46-b1a05d33afbe"
      },
      "execution_count": null,
      "outputs": [
        {
          "output_type": "display_data",
          "data": {
            "text/plain": [
              "<Figure size 432x288 with 1 Axes>"
            ],
            "image/png": "[encoded data removed]"
          },
          "metadata": {
            "needs_background": "light"
          }
        }
      ]
    },
    {
      "cell_type": "code",
      "source": [
        "model.evaluate(test)"
      ],
      "metadata": {
        "colab": {
          "base_uri": "https://localhost:8080/"
        },
        "id": "8KTPMbnFkuho",
        "outputId": "6a8d72c2-b7ea-4fed-d654-18739417ab56"
      },
      "execution_count": null,
      "outputs": [
        {
          "output_type": "stream",
          "name": "stdout",
          "text": [
            "13/13 [==============================] - 3s 178ms/step - loss: 0.3847 - accuracy: 0.8310\n"
          ]
        },
        {
          "output_type": "execute_result",
          "data": {
            "text/plain": [
              "[0.38468343019485474, 0.8309739828109741]"
            ]
          },
          "metadata": {},
          "execution_count": 17
        }
      ]
    }
  ]
}