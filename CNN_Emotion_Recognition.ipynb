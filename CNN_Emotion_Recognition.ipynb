{
  "cells": [
    {
      "cell_type": "markdown",
      "metadata": {
        "id": "view-in-github",
        "colab_type": "text"
      },
      "source": [
        "<a href=\"https://colab.research.google.com/github/crodier1/data_science/blob/main/CNN_Emotion_Recognition.ipynb\" target=\"_parent\"><img src=\"https://colab.research.google.com/assets/colab-badge.svg\" alt=\"Open In Colab\"/></a>"
      ]
    },
    {
      "cell_type": "code",
      "execution_count": null,
      "metadata": {
        "id": "ghF3wEmKjGTN"
      },
      "outputs": [],
      "source": [
        "!pip install opendatasets\n",
        "\n",
        "import opendatasets as od\n",
        "\n",
        "od.download(\"https://www.kaggle.com/competitions/challenges-in-representation-learning-facial-expression-recognition-challenge/data\")"
      ]
    },
    {
      "cell_type": "code",
      "execution_count": null,
      "metadata": {
        "id": "MtUyc14RjS7n"
      },
      "outputs": [],
      "source": [
        "import tensorflow as tf\n",
        "import numpy as np\n",
        "import matplotlib.pyplot as plt\n",
        "from tensorflow.keras.layers import Input, Conv2D, Dense, Flatten, Dropout, GlobalMaxPool2D, BatchNormalization, MaxPooling2D\n",
        "from tensorflow.keras.models import Model\n",
        "import pandas as pd\n",
        "from sklearn.model_selection import train_test_split"
      ]
    },
    {
      "cell_type": "code",
      "execution_count": null,
      "metadata": {
        "id": "xhB6rRg0ja2N"
      },
      "outputs": [],
      "source": [
        "df = pd.read_csv('challenges-in-representation-learning-facial-expression-recognition-challenge/train.csv')\n",
        "\n",
        "Y = df['emotion']\n",
        "X = df['pixels']"
      ]
    },
    {
      "cell_type": "code",
      "execution_count": null,
      "metadata": {
        "id": "56KK9BtbjcC0"
      },
      "outputs": [],
      "source": [
        "def to_array(x):\n",
        "  return np.array([int(i) / 255 for i in str(x).split(' ')]).reshape(48,48,1)\n",
        "\n",
        "X = X.apply(lambda x: to_array(x))"
      ]
    },
    {
      "cell_type": "code",
      "execution_count": null,
      "metadata": {
        "id": "ewRsu2c-jrgX"
      },
      "outputs": [],
      "source": [
        "X_train, X_test, y_train, y_test = train_test_split(X,Y,\n",
        "                                   random_state=104,\n",
        "                                   shuffle=True)"
      ]
    },
    {
      "cell_type": "code",
      "execution_count": null,
      "metadata": {
        "id": "83ADMqJojz8H"
      },
      "outputs": [],
      "source": [
        "X_train = tf.convert_to_tensor(list(X_train.values))\n",
        "y_train = tf.convert_to_tensor(y_train.values)"
      ]
    },
    {
      "cell_type": "code",
      "execution_count": null,
      "metadata": {
        "id": "VZp8PnaUZgbI"
      },
      "outputs": [],
      "source": [
        "X_test = tf.convert_to_tensor(list(X_test.values))\n",
        "y_test = tf.convert_to_tensor(y_test.values)"
      ]
    },
    {
      "cell_type": "code",
      "execution_count": null,
      "metadata": {
        "colab": {
          "base_uri": "https://localhost:8080/"
        },
        "id": "tAnOh-svj7D1",
        "outputId": "5fbceaf8-3323-4742-a5dc-9b8900ea63f3"
      },
      "outputs": [
        {
          "data": {
            "text/plain": [
              "7"
            ]
          },
          "execution_count": 17,
          "metadata": {},
          "output_type": "execute_result"
        }
      ],
      "source": [
        "K = len(set(Y))\n",
        "K"
      ]
    },
    {
      "cell_type": "code",
      "execution_count": null,
      "metadata": {
        "colab": {
          "base_uri": "https://localhost:8080/"
        },
        "id": "ZkMpyVpCj-A3",
        "outputId": "1b880733-b7f2-4945-963b-825cac8e51c7"
      },
      "outputs": [
        {
          "data": {
            "text/plain": [
              "TensorShape([48, 48, 1])"
            ]
          },
          "execution_count": 18,
          "metadata": {},
          "output_type": "execute_result"
        }
      ],
      "source": [
        "X_train[0].shape"
      ]
    },
    {
      "cell_type": "code",
      "execution_count": null,
      "metadata": {
        "id": "tu3SY82UlW-6"
      },
      "outputs": [],
      "source": [
        "# i = Input(shape= X_train[0].shape)\n",
        "# x = Conv2D(1, 3, strides= 2, activation= 'relu')(i)\n",
        "# x = Conv2D(64, 3, strides= 2, activation= 'relu')(x)\n",
        "# x = Conv2D(128, 3, strides= 2, activation= 'relu')(x)\n",
        "# x = Flatten()(x)\n",
        "# x = Dropout(0.2)(x)\n",
        "# x = Dense(512, activation='relu')(x)\n",
        "# x = Dropout(0.2)(x)\n",
        "# x = Dense(K, activation='softmax')(x)\n",
        "\n",
        "i = Input(shape= X_train[0].shape)\n",
        "\n",
        "x = Conv2D(1, 3, strides= 2, activation= 'relu')(i)\n",
        "x = BatchNormalization()(x)\n",
        "x = Conv2D(32, (3,3), activation= 'relu', padding='same')(x)\n",
        "x = BatchNormalization()(x)\n",
        "x = MaxPooling2D(2,2)(x)\n",
        "\n",
        "x = Conv2D(64, (3,3), activation= 'relu', padding='same')(x)\n",
        "x = BatchNormalization()(x)\n",
        "x = Conv2D(64, (3,3), activation= 'relu', padding='same')(x)\n",
        "x = BatchNormalization()(x)\n",
        "x = MaxPooling2D(2,2)(x)\n",
        "\n",
        "x = Conv2D(128, (3,3), activation= 'relu', padding='same')(x)\n",
        "x = BatchNormalization()(x)\n",
        "x = Conv2D(128, (3,3), activation= 'relu', padding='same')(x)\n",
        "x = BatchNormalization()(x)\n",
        "x = MaxPooling2D(2,2)(x)\n",
        "\n",
        "x = Flatten()(x)\n",
        "x = Dropout(0.2)(x)\n",
        "x = Dense(1024, activation='relu')(x)\n",
        "x = Dropout(0.2)(x)\n",
        "x = Dense(K, activation='softmax')(x)\n",
        "\n",
        "model = Model(i,x)\n",
        "\n",
        "model = Model(i,x)"
      ]
    },
    {
      "cell_type": "code",
      "execution_count": null,
      "metadata": {
        "id": "dRq_JgWGXnJw"
      },
      "outputs": [],
      "source": [
        "model.compile(optimizer='adam', loss='sparse_categorical_crossentropy', metrics=['accuracy'])"
      ]
    },
    {
      "cell_type": "code",
      "execution_count": null,
      "metadata": {
        "colab": {
          "background_save": true,
          "base_uri": "https://localhost:8080/"
        },
        "id": "Oz1DZUPWc5RM",
        "outputId": "bdbc12cb-7fbc-4a26-8f88-53ee399ef47d"
      },
      "outputs": [
        {
          "name": "stdout",
          "output_type": "stream",
          "text": [
            "Epoch 1/50\n",
            "673/673 [==============================] - 101s 146ms/step - loss: 1.7576 - accuracy: 0.3206 - val_loss: 1.5182 - val_accuracy: 0.4126\n",
            "Epoch 2/50\n",
            "673/673 [==============================] - 94s 139ms/step - loss: 1.5304 - accuracy: 0.4018 - val_loss: 1.4508 - val_accuracy: 0.4444\n",
            "Epoch 3/50\n",
            "673/673 [==============================] - 103s 152ms/step - loss: 1.4496 - accuracy: 0.4418 - val_loss: 1.4747 - val_accuracy: 0.4323\n",
            "Epoch 4/50\n",
            "673/673 [==============================] - 100s 148ms/step - loss: 1.4047 - accuracy: 0.4599 - val_loss: 1.3331 - val_accuracy: 0.4890\n",
            "Epoch 5/50\n",
            "673/673 [==============================] - 100s 149ms/step - loss: 1.3665 - accuracy: 0.4794 - val_loss: 1.3296 - val_accuracy: 0.4914\n",
            "Epoch 6/50\n",
            "673/673 [==============================] - 95s 140ms/step - loss: 1.3312 - accuracy: 0.4943 - val_loss: 1.3292 - val_accuracy: 0.4908\n",
            "Epoch 7/50\n",
            "673/673 [==============================] - 95s 140ms/step - loss: 1.3036 - accuracy: 0.5028 - val_loss: 1.3441 - val_accuracy: 0.4902\n",
            "Epoch 8/50\n",
            "673/673 [==============================] - 93s 139ms/step - loss: 1.2800 - accuracy: 0.5144 - val_loss: 1.2858 - val_accuracy: 0.5111\n",
            "Epoch 9/50\n",
            "673/673 [==============================] - 98s 146ms/step - loss: 1.2575 - accuracy: 0.5201 - val_loss: 1.3011 - val_accuracy: 0.5148\n",
            "Epoch 10/50\n",
            "673/673 [==============================] - 99s 147ms/step - loss: 1.2502 - accuracy: 0.5259 - val_loss: 1.2402 - val_accuracy: 0.5252\n",
            "Epoch 11/50\n",
            "673/673 [==============================] - 100s 149ms/step - loss: 1.2318 - accuracy: 0.5318 - val_loss: 1.2650 - val_accuracy: 0.5199\n",
            "Epoch 12/50\n",
            "673/673 [==============================] - 99s 147ms/step - loss: 1.2147 - accuracy: 0.5393 - val_loss: 1.2076 - val_accuracy: 0.5432\n",
            "Epoch 13/50\n",
            "673/673 [==============================] - 102s 152ms/step - loss: 1.2078 - accuracy: 0.5422 - val_loss: 1.1701 - val_accuracy: 0.5600\n",
            "Epoch 14/50\n",
            "673/673 [==============================] - 98s 146ms/step - loss: 1.1896 - accuracy: 0.5507 - val_loss: 1.1814 - val_accuracy: 0.5514\n",
            "Epoch 15/50\n",
            "673/673 [==============================] - 97s 144ms/step - loss: 1.1781 - accuracy: 0.5556 - val_loss: 1.1732 - val_accuracy: 0.5606\n",
            "Epoch 16/50\n",
            "673/673 [==============================] - 101s 150ms/step - loss: 1.1740 - accuracy: 0.5543 - val_loss: 1.2095 - val_accuracy: 0.5503\n",
            "Epoch 17/50\n",
            "673/673 [==============================] - 95s 141ms/step - loss: 1.1677 - accuracy: 0.5591 - val_loss: 1.1942 - val_accuracy: 0.5408\n",
            "Epoch 18/50\n",
            "673/673 [==============================] - 95s 141ms/step - loss: 1.1532 - accuracy: 0.5642 - val_loss: 1.1636 - val_accuracy: 0.5614\n",
            "Epoch 19/50\n",
            "673/673 [==============================] - 94s 140ms/step - loss: 1.1476 - accuracy: 0.5675 - val_loss: 1.1405 - val_accuracy: 0.5701\n",
            "Epoch 20/50\n",
            "673/673 [==============================] - 95s 141ms/step - loss: 1.1395 - accuracy: 0.5645 - val_loss: 1.1550 - val_accuracy: 0.5609\n",
            "Epoch 21/50\n",
            "673/673 [==============================] - 99s 148ms/step - loss: 1.1294 - accuracy: 0.5715 - val_loss: 1.1346 - val_accuracy: 0.5744\n",
            "Epoch 22/50\n",
            "673/673 [==============================] - 96s 143ms/step - loss: 1.1205 - accuracy: 0.5754 - val_loss: 1.1781 - val_accuracy: 0.5549\n",
            "Epoch 23/50\n",
            "673/673 [==============================] - 99s 146ms/step - loss: 1.1125 - accuracy: 0.5797 - val_loss: 1.1301 - val_accuracy: 0.5697\n",
            "Epoch 24/50\n",
            "673/673 [==============================] - 103s 153ms/step - loss: 1.1056 - accuracy: 0.5817 - val_loss: 1.1808 - val_accuracy: 0.5553\n",
            "Epoch 25/50\n",
            "673/673 [==============================] - 99s 147ms/step - loss: 1.0971 - accuracy: 0.5843 - val_loss: 1.1314 - val_accuracy: 0.5776\n",
            "Epoch 26/50\n",
            "673/673 [==============================] - 97s 144ms/step - loss: 1.0930 - accuracy: 0.5869 - val_loss: 1.1281 - val_accuracy: 0.5702\n",
            "Epoch 27/50\n",
            "673/673 [==============================] - 93s 138ms/step - loss: 1.0878 - accuracy: 0.5870 - val_loss: 1.1089 - val_accuracy: 0.5836\n",
            "Epoch 28/50\n",
            "673/673 [==============================] - 91s 136ms/step - loss: 1.0811 - accuracy: 0.5892 - val_loss: 1.1304 - val_accuracy: 0.5775\n",
            "Epoch 29/50\n",
            "673/673 [==============================] - 93s 138ms/step - loss: 1.0824 - accuracy: 0.5903 - val_loss: 1.1344 - val_accuracy: 0.5747\n",
            "Epoch 30/50\n",
            "673/673 [==============================] - 93s 138ms/step - loss: 1.0709 - accuracy: 0.6001 - val_loss: 1.1031 - val_accuracy: 0.5947\n",
            "Epoch 31/50\n",
            "673/673 [==============================] - 91s 136ms/step - loss: 1.0731 - accuracy: 0.5932 - val_loss: 1.1372 - val_accuracy: 0.5717\n",
            "Epoch 32/50\n",
            "673/673 [==============================] - 99s 147ms/step - loss: 1.0666 - accuracy: 0.5952 - val_loss: 1.1140 - val_accuracy: 0.5836\n",
            "Epoch 33/50\n",
            "673/673 [==============================] - 96s 143ms/step - loss: 1.0520 - accuracy: 0.6026 - val_loss: 1.1133 - val_accuracy: 0.5819\n",
            "Epoch 34/50\n",
            "673/673 [==============================] - 96s 142ms/step - loss: 1.0486 - accuracy: 0.6011 - val_loss: 1.1334 - val_accuracy: 0.5768\n",
            "Epoch 35/50\n",
            "673/673 [==============================] - 96s 143ms/step - loss: 1.0440 - accuracy: 0.6008 - val_loss: 1.1240 - val_accuracy: 0.5782\n",
            "Epoch 36/50\n",
            "673/673 [==============================] - 96s 142ms/step - loss: 1.0467 - accuracy: 0.6031 - val_loss: 1.0960 - val_accuracy: 0.5872\n",
            "Epoch 37/50\n",
            "673/673 [==============================] - 93s 139ms/step - loss: 1.0417 - accuracy: 0.6074 - val_loss: 1.1184 - val_accuracy: 0.5819\n",
            "Epoch 38/50\n",
            "673/673 [==============================] - 96s 142ms/step - loss: 1.0323 - accuracy: 0.6089 - val_loss: 1.0919 - val_accuracy: 0.5943\n",
            "Epoch 39/50\n",
            "673/673 [==============================] - 93s 138ms/step - loss: 1.0297 - accuracy: 0.6117 - val_loss: 1.1083 - val_accuracy: 0.5883\n",
            "Epoch 40/50\n",
            "673/673 [==============================] - 95s 141ms/step - loss: 1.0340 - accuracy: 0.6079 - val_loss: 1.0819 - val_accuracy: 0.6009\n",
            "Epoch 41/50\n",
            "673/673 [==============================] - 91s 136ms/step - loss: 1.0262 - accuracy: 0.6150 - val_loss: 1.0945 - val_accuracy: 0.5928\n",
            "Epoch 42/50\n",
            "673/673 [==============================] - 96s 142ms/step - loss: 1.0166 - accuracy: 0.6169 - val_loss: 1.0991 - val_accuracy: 0.5913\n",
            "Epoch 43/50\n",
            "673/673 [==============================] - 96s 143ms/step - loss: 1.0103 - accuracy: 0.6203 - val_loss: 1.1008 - val_accuracy: 0.5953\n",
            "Epoch 44/50\n",
            "673/673 [==============================] - 96s 143ms/step - loss: 1.0056 - accuracy: 0.6193 - val_loss: 1.1063 - val_accuracy: 0.5862\n",
            "Epoch 45/50\n",
            "673/673 [==============================] - 98s 145ms/step - loss: 1.0085 - accuracy: 0.6183 - val_loss: 1.0983 - val_accuracy: 0.5908\n",
            "Epoch 46/50\n",
            "673/673 [==============================] - 95s 142ms/step - loss: 1.0000 - accuracy: 0.6198 - val_loss: 1.1166 - val_accuracy: 0.5871\n",
            "Epoch 47/50\n",
            "673/673 [==============================] - 92s 137ms/step - loss: 0.9991 - accuracy: 0.6200 - val_loss: 1.1015 - val_accuracy: 0.5972\n",
            "Epoch 48/50\n",
            "673/673 [==============================] - 96s 143ms/step - loss: 0.9925 - accuracy: 0.6270 - val_loss: 1.0789 - val_accuracy: 0.5961\n",
            "Epoch 49/50\n",
            "673/673 [==============================] - 96s 143ms/step - loss: 0.9923 - accuracy: 0.6270 - val_loss: 1.1011 - val_accuracy: 0.5935\n",
            "Epoch 50/50\n",
            "673/673 [==============================] - 96s 143ms/step - loss: 0.9830 - accuracy: 0.6281 - val_loss: 1.0836 - val_accuracy: 0.5953\n"
          ]
        }
      ],
      "source": [
        "from tensorflow.keras.preprocessing.image import ImageDataGenerator\n",
        "\n",
        "datagen = ImageDataGenerator(\n",
        "    rotation_range=20,\n",
        "    width_shift_range=0.1,\n",
        "    height_shift_range=0.1,\n",
        "    horizontal_flip=True\n",
        ")\n",
        "\n",
        "datagen.fit(X_train)\n",
        "\n",
        "train_generator = datagen.flow(X_train, y_train, batch_size=32)\n",
        "\n",
        "r = model.fit(train_generator, epochs=50, validation_data=(X_test, y_test))"
      ]
    },
    {
      "cell_type": "code",
      "execution_count": null,
      "metadata": {
        "colab": {
          "background_save": true
        },
        "id": "wU0yce9xXqZ6"
      },
      "outputs": [],
      "source": [
        "# r = model.fit(X_train, y_train, validation_data=(X_test, y_test), epochs=15)"
      ]
    },
    {
      "cell_type": "code",
      "execution_count": null,
      "metadata": {
        "colab": {
          "background_save": true
        },
        "id": "BReLuHo-eXL9",
        "outputId": "e0bfe149-58bd-4984-89d5-136f86a49993"
      },
      "outputs": [
        {
          "data": {
            "text/plain": [
              "<matplotlib.legend.Legend at 0x7b67b15d0580>"
            ]
          },
          "execution_count": 23,
          "metadata": {},
          "output_type": "execute_result"
        },
        {
          "data": {
            "image/png": "[encoded data removed]",
            "text/plain": [
              "<Figure size 640x480 with 1 Axes>"
            ]
          },
          "metadata": {},
          "output_type": "display_data"
        }
      ],
      "source": [
        "plt.plot(r.history['loss'], label='loss')\n",
        "plt.plot(r.history['val_loss'], label='val_loss')\n",
        "plt.legend()"
      ]
    },
    {
      "cell_type": "code",
      "execution_count": null,
      "metadata": {
        "colab": {
          "background_save": true
        },
        "id": "taO1vDyUeePP",
        "outputId": "3c73ec63-1e86-4c35-bb3d-d48e1be45a3c"
      },
      "outputs": [
        {
          "data": {
            "text/plain": [
              "<matplotlib.legend.Legend at 0x7b67911fef80>"
            ]
          },
          "execution_count": 24,
          "metadata": {},
          "output_type": "execute_result"
        },
        {
          "data": {
            "image/png": "[encoded data removed]",
            "text/plain": [
              "<Figure size 640x480 with 1 Axes>"
            ]
          },
          "metadata": {},
          "output_type": "display_data"
        }
      ],
      "source": [
        "plt.plot(r.history['accuracy'], label='accuracy')\n",
        "plt.plot(r.history['val_accuracy'], label='val_accuracy')\n",
        "plt.legend()"
      ]
    },
    {
      "cell_type": "code",
      "execution_count": null,
      "metadata": {
        "colab": {
          "background_save": true
        },
        "id": "ZU9tyz7gehgU",
        "outputId": "1846a62d-acbb-4cfc-da9d-9d6daf62468d"
      },
      "outputs": [
        {
          "ename": "NameError",
          "evalue": "name 'x_test' is not defined",
          "output_type": "error",
          "traceback": [
            "\u001b[0;31m---------------------------------------------------------------------------\u001b[0m",
            "\u001b[0;31mNameError\u001b[0m                                 Traceback (most recent call last)",
            "\u001b[0;32m<ipython-input-25-accd836e705a>\u001b[0m in \u001b[0;36m<cell line: 1>\u001b[0;34m()\u001b[0m\n\u001b[0;32m----> 1\u001b[0;31m \u001b[0mpredictions\u001b[0m \u001b[0;34m=\u001b[0m \u001b[0mmodel\u001b[0m\u001b[0;34m.\u001b[0m\u001b[0mpredict\u001b[0m\u001b[0;34m(\u001b[0m\u001b[0mx_test\u001b[0m\u001b[0;34m)\u001b[0m\u001b[0;34m\u001b[0m\u001b[0;34m\u001b[0m\u001b[0m\n\u001b[0m\u001b[1;32m      2\u001b[0m \u001b[0;34m\u001b[0m\u001b[0m\n\u001b[1;32m      3\u001b[0m \u001b[0mpredictions\u001b[0m \u001b[0;34m=\u001b[0m \u001b[0;34m[\u001b[0m\u001b[0mnp\u001b[0m\u001b[0;34m.\u001b[0m\u001b[0margmax\u001b[0m\u001b[0;34m(\u001b[0m\u001b[0mi\u001b[0m\u001b[0;34m)\u001b[0m \u001b[0;32mfor\u001b[0m \u001b[0mi\u001b[0m \u001b[0;32min\u001b[0m \u001b[0mpredictions\u001b[0m\u001b[0;34m]\u001b[0m\u001b[0;34m\u001b[0m\u001b[0;34m\u001b[0m\u001b[0m\n\u001b[1;32m      4\u001b[0m \u001b[0;34m\u001b[0m\u001b[0m\n\u001b[1;32m      5\u001b[0m \u001b[0;32mfrom\u001b[0m \u001b[0msklearn\u001b[0m\u001b[0;34m.\u001b[0m\u001b[0mmetrics\u001b[0m \u001b[0;32mimport\u001b[0m \u001b[0mconfusion_matrix\u001b[0m\u001b[0;34m\u001b[0m\u001b[0;34m\u001b[0m\u001b[0m\n",
            "\u001b[0;31mNameError\u001b[0m: name 'x_test' is not defined"
          ]
        }
      ],
      "source": [
        "predictions = model.predict(X_test)\n",
        "\n",
        "predictions = [np.argmax(i) for i in predictions]\n",
        "\n",
        "from sklearn.metrics import confusion_matrix\n",
        "print(np.unique(y_test))\n",
        "print(confusion_matrix(y_test, predictions))\n",
        "\n",
        "plt.imshow(confusion_matrix(y_test, predictions))\n",
        "plt.colorbar()"
      ]
    }
  ],
  "metadata": {
    "colab": {
      "provenance": [],
      "authorship_tag": "ABX9TyOVXVzZiLPaiMKUWqxrZAxJ",
      "include_colab_link": true
    },
    "kernelspec": {
      "display_name": "Python 3",
      "name": "python3"
    },
    "language_info": {
      "name": "python"
    }
  },
  "nbformat": 4,
  "nbformat_minor": 0
}