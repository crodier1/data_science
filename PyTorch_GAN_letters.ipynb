{
  "nbformat": 4,
  "nbformat_minor": 0,
  "metadata": {
    "colab": {
      "provenance": [],
      "authorship_tag": "ABX9TyPqYZpyEpgw8gWAdD7/VIpz",
      "include_colab_link": true
    },
    "kernelspec": {
      "name": "python3",
      "display_name": "Python 3"
    },
    "language_info": {
      "name": "python"
    }
  },
  "cells": [
    {
      "cell_type": "markdown",
      "metadata": {
        "id": "view-in-github",
        "colab_type": "text"
      },
      "source": [
        "<a href=\"https://colab.research.google.com/github/crodier1/data_science/blob/main/PyTorch_GAN_letters.ipynb\" target=\"_parent\"><img src=\"https://colab.research.google.com/assets/colab-badge.svg\" alt=\"Open In Colab\"/></a>"
      ]
    },
    {
      "cell_type": "code",
      "execution_count": null,
      "metadata": {
        "id": "tl_uj3rdQsUj"
      },
      "outputs": [],
      "source": [
        "import torch\n",
        "import torch.nn as nn\n",
        "import torchvision\n",
        "import torchvision.transforms as transforms\n",
        "from torchvision.utils import save_image\n",
        "import matplotlib.pyplot as plt\n",
        "import numpy as np\n",
        "import os\n",
        "from datetime import datetime"
      ]
    },
    {
      "cell_type": "code",
      "source": [
        "transform = transforms.Compose([\n",
        "    transforms.ToTensor(),\n",
        "    transforms.Normalize(mean=(0.5,), std=(0.5,))\n",
        "])"
      ],
      "metadata": {
        "id": "SjBPpBEPRI0h"
      },
      "execution_count": null,
      "outputs": []
    },
    {
      "cell_type": "code",
      "source": [
        "train_dataset = torchvision.datasets.MNIST(\n",
        "    root='.',\n",
        "    train=True,\n",
        "    transform=transform,\n",
        "    download=True)"
      ],
      "metadata": {
        "id": "w-xHwzqVRddI",
        "colab": {
          "base_uri": "https://localhost:8080/"
        },
        "outputId": "45b5692f-0721-4c01-c91f-3772d47a2921"
      },
      "execution_count": null,
      "outputs": [
        {
          "output_type": "stream",
          "name": "stdout",
          "text": [
            "Downloading http://yann.lecun.com/exdb/mnist/train-images-idx3-ubyte.gz\n",
            "Failed to download (trying next):\n",
            "HTTP Error 403: Forbidden\n",
            "\n",
            "Downloading https://ossci-datasets.s3.amazonaws.com/mnist/train-images-idx3-ubyte.gz\n",
            "Downloading https://ossci-datasets.s3.amazonaws.com/mnist/train-images-idx3-ubyte.gz to ./MNIST/raw/train-images-idx3-ubyte.gz\n"
          ]
        },
        {
          "output_type": "stream",
          "name": "stderr",
          "text": [
            "100%|██████████| 9912422/9912422 [00:00<00:00, 107713003.18it/s]\n"
          ]
        },
        {
          "output_type": "stream",
          "name": "stdout",
          "text": [
            "Extracting ./MNIST/raw/train-images-idx3-ubyte.gz to ./MNIST/raw\n",
            "\n",
            "Downloading http://yann.lecun.com/exdb/mnist/train-labels-idx1-ubyte.gz\n",
            "Failed to download (trying next):\n",
            "HTTP Error 403: Forbidden\n",
            "\n",
            "Downloading https://ossci-datasets.s3.amazonaws.com/mnist/train-labels-idx1-ubyte.gz\n",
            "Downloading https://ossci-datasets.s3.amazonaws.com/mnist/train-labels-idx1-ubyte.gz to ./MNIST/raw/train-labels-idx1-ubyte.gz\n"
          ]
        },
        {
          "output_type": "stream",
          "name": "stderr",
          "text": [
            "100%|██████████| 28881/28881 [00:00<00:00, 28125306.20it/s]"
          ]
        },
        {
          "output_type": "stream",
          "name": "stdout",
          "text": [
            "Extracting ./MNIST/raw/train-labels-idx1-ubyte.gz to ./MNIST/raw\n",
            "\n",
            "Downloading http://yann.lecun.com/exdb/mnist/t10k-images-idx3-ubyte.gz\n",
            "Failed to download (trying next):\n",
            "HTTP Error 403: Forbidden\n",
            "\n",
            "Downloading https://ossci-datasets.s3.amazonaws.com/mnist/t10k-images-idx3-ubyte.gz\n",
            "Downloading https://ossci-datasets.s3.amazonaws.com/mnist/t10k-images-idx3-ubyte.gz to ./MNIST/raw/t10k-images-idx3-ubyte.gz\n"
          ]
        },
        {
          "output_type": "stream",
          "name": "stderr",
          "text": [
            "\n",
            "100%|██████████| 1648877/1648877 [00:00<00:00, 82515736.18it/s]\n"
          ]
        },
        {
          "output_type": "stream",
          "name": "stdout",
          "text": [
            "Extracting ./MNIST/raw/t10k-images-idx3-ubyte.gz to ./MNIST/raw\n",
            "\n",
            "Downloading http://yann.lecun.com/exdb/mnist/t10k-labels-idx1-ubyte.gz\n",
            "Failed to download (trying next):\n",
            "HTTP Error 403: Forbidden\n",
            "\n",
            "Downloading https://ossci-datasets.s3.amazonaws.com/mnist/t10k-labels-idx1-ubyte.gz\n",
            "Downloading https://ossci-datasets.s3.amazonaws.com/mnist/t10k-labels-idx1-ubyte.gz to ./MNIST/raw/t10k-labels-idx1-ubyte.gz\n"
          ]
        },
        {
          "output_type": "stream",
          "name": "stderr",
          "text": [
            "100%|██████████| 4542/4542 [00:00<00:00, 5493232.06it/s]\n"
          ]
        },
        {
          "output_type": "stream",
          "name": "stdout",
          "text": [
            "Extracting ./MNIST/raw/t10k-labels-idx1-ubyte.gz to ./MNIST/raw\n",
            "\n"
          ]
        }
      ]
    },
    {
      "cell_type": "code",
      "source": [
        "len(train_dataset)"
      ],
      "metadata": {
        "colab": {
          "base_uri": "https://localhost:8080/"
        },
        "id": "l9k5jQSLR27Y",
        "outputId": "b816951a-3d43-497c-8383-6ce014f34ac0"
      },
      "execution_count": null,
      "outputs": [
        {
          "output_type": "execute_result",
          "data": {
            "text/plain": [
              "60000"
            ]
          },
          "metadata": {},
          "execution_count": 4
        }
      ]
    },
    {
      "cell_type": "code",
      "source": [
        "batch_size = 128\n",
        "\n",
        "dataloader = torch.utils.data.DataLoader(\n",
        "    train_dataset,\n",
        "    batch_size=batch_size,\n",
        "    shuffle=True)"
      ],
      "metadata": {
        "id": "4i3kSPJsSEUV"
      },
      "execution_count": null,
      "outputs": []
    },
    {
      "cell_type": "code",
      "source": [
        "D = nn.Sequential(\n",
        "    nn.Linear(784, 512),\n",
        "    nn.LeakyReLU(0.2),\n",
        "    nn.Linear(512, 256),\n",
        "    nn.LeakyReLU(0.2),\n",
        "    nn.Linear(256, 1),\n",
        "    # nn.Sigmoid()\n",
        ")"
      ],
      "metadata": {
        "id": "iitq-SBsSMRe"
      },
      "execution_count": null,
      "outputs": []
    },
    {
      "cell_type": "code",
      "source": [
        "latent_dim = 100\n",
        "\n",
        "G = nn.Sequential(\n",
        "    nn.Linear(latent_dim, 256),\n",
        "    nn.LeakyReLU(0.2),\n",
        "    nn.BatchNorm1d(256, momentum=0.7),\n",
        "    nn.Linear(256, 512),\n",
        "    nn.LeakyReLU(0.2),\n",
        "    nn.BatchNorm1d(512, momentum=0.7),\n",
        "    nn.Linear(512, 1024),\n",
        "    nn.LeakyReLU(0.2),\n",
        "    nn.BatchNorm1d(1024, momentum=0.7),\n",
        "    nn.Linear(1024, 784),\n",
        "    nn.Tanh()\n",
        ")"
      ],
      "metadata": {
        "id": "r_ueoRJYSbqG"
      },
      "execution_count": null,
      "outputs": []
    },
    {
      "cell_type": "code",
      "source": [
        "device = torch.device('cuda' if torch.cuda.is_available() else 'cpu')\n",
        "\n",
        "D = D.to(device)\n",
        "G = G.to(device)\n"
      ],
      "metadata": {
        "id": "dAl58jj8T_sk"
      },
      "execution_count": null,
      "outputs": []
    },
    {
      "cell_type": "code",
      "source": [
        "criterion = nn.BCEWithLogitsLoss()\n",
        "d_optimizer = torch.optim.Adam(D.parameters(), lr=0.0002, betas=(0.5, 0.999))\n",
        "g_optimizer = torch.optim.Adam(G.parameters(), lr=0.0002, betas=(0.5, 0.999))"
      ],
      "metadata": {
        "id": "UDANR83AUYbT"
      },
      "execution_count": null,
      "outputs": []
    },
    {
      "cell_type": "code",
      "source": [
        "def scale_image(img):\n",
        "  out = (img + 1) / 2\n",
        "  return out"
      ],
      "metadata": {
        "id": "Vdej87QcUumP"
      },
      "execution_count": null,
      "outputs": []
    },
    {
      "cell_type": "code",
      "source": [
        "if not os.path.exists('gan_images'):\n",
        "  os.makedirs('gan_images')"
      ],
      "metadata": {
        "id": "cwI9vwbiVAYs"
      },
      "execution_count": null,
      "outputs": []
    },
    {
      "cell_type": "code",
      "source": [
        "# for inputs, labels in dataloader:\n",
        "#   print(inputs.shape)\n",
        "#   break"
      ],
      "metadata": {
        "colab": {
          "base_uri": "https://localhost:8080/"
        },
        "id": "m7IM_bf2AbFI",
        "outputId": "90e44d30-2c48-4fb3-9f6c-cb9066c0b431"
      },
      "execution_count": null,
      "outputs": [
        {
          "output_type": "stream",
          "name": "stdout",
          "text": [
            "torch.Size([128, 1, 28, 28])\n"
          ]
        }
      ]
    },
    {
      "cell_type": "code",
      "source": [
        "ones_ = torch.ones(batch_size, 1).to(device)\n",
        "zeros_ = torch.zeros(batch_size, 1).to(device)\n",
        "\n",
        "d_losses = []\n",
        "g_losses = []\n",
        "\n",
        "for epoch in range(200):\n",
        "\n",
        "  for inputs,_ in dataloader:\n",
        "    n = inputs.size(0)\n",
        "\n",
        "    inputs = inputs.reshape(n, 784).to(device)\n",
        "\n",
        "    # set ones & zeros to correct size\n",
        "    ones = ones_[:n]\n",
        "    zeros = zeros_[:n]\n",
        "\n",
        "    # Train Descriminator\n",
        "\n",
        "    real_outputs = D(inputs)\n",
        "    d_loss_real = criterion(real_outputs, ones)\n",
        "\n",
        "    noise = torch.randn(n, latent_dim).to(device)\n",
        "\n",
        "    fake_images = G(noise)\n",
        "    fake_outputs = D(fake_images)\n",
        "\n",
        "    d_loss_fake = criterion(fake_outputs, zeros)\n",
        "\n",
        "    d_loss = 0.5 * (d_loss_real + d_loss_fake)\n",
        "\n",
        "    d_optimizer.zero_grad()\n",
        "    g_optimizer.zero_grad()\n",
        "    d_loss.backward()\n",
        "    d_optimizer.step()\n",
        "\n",
        "    # Train Generator\n",
        "\n",
        "    for _ in range(2):\n",
        "      noise = torch.randn(n, latent_dim).to(device)\n",
        "      fake_images = G(noise)\n",
        "      fake_outputs = D(fake_images)\n",
        "\n",
        "      g_loss = criterion(fake_outputs, ones)\n",
        "\n",
        "      d_optimizer.zero_grad()\n",
        "      g_optimizer.zero_grad()\n",
        "      g_loss.backward()\n",
        "      g_optimizer.step()\n",
        "\n",
        "    d_losses.append(d_loss.item())\n",
        "    g_losses.append(g_loss.item())\n",
        "\n",
        "  print(f'Epoch {epoch+1} D Loss: {d_loss.item()} G Loss: {g_loss.item()}')\n",
        "\n",
        "  fake_images = fake_images.reshape(-1, 1, 28, 28)\n",
        "  save_image(scale_image(fake_images), f'gan_images/{epoch+1}.png')"
      ],
      "metadata": {
        "colab": {
          "base_uri": "https://localhost:8080/",
          "height": 1000
        },
        "id": "m8Iz_-8YVGFE",
        "outputId": "635a3589-119c-462f-8b2b-baf371ffcc54"
      },
      "execution_count": null,
      "outputs": [
        {
          "output_type": "stream",
          "name": "stdout",
          "text": [
            "128\n",
            "torch.Size([128, 1, 28, 28])\n",
            "torch.Size([128, 784])\n",
            "128\n",
            "noise.shape torch.Size([128, 100])\n",
            "128\n",
            "torch.Size([128, 1, 28, 28])\n",
            "torch.Size([128, 784])\n",
            "128\n",
            "noise.shape torch.Size([128, 100])\n",
            "128\n",
            "torch.Size([128, 1, 28, 28])\n",
            "torch.Size([128, 784])\n",
            "128\n",
            "noise.shape torch.Size([128, 100])\n",
            "128\n",
            "torch.Size([128, 1, 28, 28])\n",
            "torch.Size([128, 784])\n",
            "128\n",
            "noise.shape torch.Size([128, 100])\n",
            "128\n",
            "torch.Size([128, 1, 28, 28])\n",
            "torch.Size([128, 784])\n",
            "128\n",
            "noise.shape torch.Size([128, 100])\n",
            "128\n",
            "torch.Size([128, 1, 28, 28])\n",
            "torch.Size([128, 784])\n",
            "128\n",
            "noise.shape torch.Size([128, 100])\n",
            "128\n",
            "torch.Size([128, 1, 28, 28])\n",
            "torch.Size([128, 784])\n",
            "128\n",
            "noise.shape torch.Size([128, 100])\n",
            "128\n",
            "torch.Size([128, 1, 28, 28])\n",
            "torch.Size([128, 784])\n",
            "128\n",
            "noise.shape torch.Size([128, 100])\n",
            "128\n",
            "torch.Size([128, 1, 28, 28])\n",
            "torch.Size([128, 784])\n",
            "128\n",
            "noise.shape torch.Size([128, 100])\n",
            "128\n",
            "torch.Size([128, 1, 28, 28])\n",
            "torch.Size([128, 784])\n",
            "128\n",
            "noise.shape torch.Size([128, 100])\n",
            "128\n",
            "torch.Size([128, 1, 28, 28])\n",
            "torch.Size([128, 784])\n",
            "128\n",
            "noise.shape torch.Size([128, 100])\n",
            "128\n",
            "torch.Size([128, 1, 28, 28])\n",
            "torch.Size([128, 784])\n",
            "128\n",
            "noise.shape torch.Size([128, 100])\n",
            "128\n",
            "torch.Size([128, 1, 28, 28])\n",
            "torch.Size([128, 784])\n",
            "128\n",
            "noise.shape torch.Size([128, 100])\n",
            "128\n",
            "torch.Size([128, 1, 28, 28])\n",
            "torch.Size([128, 784])\n",
            "128\n",
            "noise.shape torch.Size([128, 100])\n",
            "128\n",
            "torch.Size([128, 1, 28, 28])\n",
            "torch.Size([128, 784])\n",
            "128\n",
            "noise.shape torch.Size([128, 100])\n",
            "128\n",
            "torch.Size([128, 1, 28, 28])\n",
            "torch.Size([128, 784])\n",
            "128\n",
            "noise.shape torch.Size([128, 100])\n",
            "128\n",
            "torch.Size([128, 1, 28, 28])\n",
            "torch.Size([128, 784])\n",
            "128\n",
            "noise.shape torch.Size([128, 100])\n",
            "128\n",
            "torch.Size([128, 1, 28, 28])\n",
            "torch.Size([128, 784])\n",
            "128\n",
            "noise.shape torch.Size([128, 100])\n",
            "128\n",
            "torch.Size([128, 1, 28, 28])\n",
            "torch.Size([128, 784])\n",
            "128\n",
            "noise.shape torch.Size([128, 100])\n",
            "128\n",
            "torch.Size([128, 1, 28, 28])\n",
            "torch.Size([128, 784])\n",
            "128\n",
            "noise.shape torch.Size([128, 100])\n",
            "128\n",
            "torch.Size([128, 1, 28, 28])\n",
            "torch.Size([128, 784])\n",
            "128\n",
            "noise.shape torch.Size([128, 100])\n",
            "128\n",
            "torch.Size([128, 1, 28, 28])\n",
            "torch.Size([128, 784])\n",
            "128\n",
            "noise.shape torch.Size([128, 100])\n",
            "128\n",
            "torch.Size([128, 1, 28, 28])\n",
            "torch.Size([128, 784])\n",
            "128\n",
            "noise.shape torch.Size([128, 100])\n",
            "128\n",
            "torch.Size([128, 1, 28, 28])\n",
            "torch.Size([128, 784])\n",
            "128\n",
            "noise.shape torch.Size([128, 100])\n",
            "128\n",
            "torch.Size([128, 1, 28, 28])\n",
            "torch.Size([128, 784])\n",
            "128\n",
            "noise.shape torch.Size([128, 100])\n",
            "128\n",
            "torch.Size([128, 1, 28, 28])\n",
            "torch.Size([128, 784])\n",
            "128\n",
            "noise.shape torch.Size([128, 100])\n",
            "128\n",
            "torch.Size([128, 1, 28, 28])\n",
            "torch.Size([128, 784])\n",
            "128\n",
            "noise.shape torch.Size([128, 100])\n",
            "128\n",
            "torch.Size([128, 1, 28, 28])\n",
            "torch.Size([128, 784])\n",
            "128\n",
            "noise.shape torch.Size([128, 100])\n",
            "128\n",
            "torch.Size([128, 1, 28, 28])\n",
            "torch.Size([128, 784])\n",
            "128\n",
            "noise.shape torch.Size([128, 100])\n",
            "128\n",
            "torch.Size([128, 1, 28, 28])\n",
            "torch.Size([128, 784])\n",
            "128\n",
            "noise.shape torch.Size([128, 100])\n",
            "128\n",
            "torch.Size([128, 1, 28, 28])\n",
            "torch.Size([128, 784])\n",
            "128\n",
            "noise.shape torch.Size([128, 100])\n",
            "128\n",
            "torch.Size([128, 1, 28, 28])\n",
            "torch.Size([128, 784])\n",
            "128\n",
            "noise.shape torch.Size([128, 100])\n",
            "128\n",
            "torch.Size([128, 1, 28, 28])\n",
            "torch.Size([128, 784])\n",
            "128\n",
            "noise.shape torch.Size([128, 100])\n",
            "128\n",
            "torch.Size([128, 1, 28, 28])\n",
            "torch.Size([128, 784])\n",
            "128\n",
            "noise.shape torch.Size([128, 100])\n",
            "128\n",
            "torch.Size([128, 1, 28, 28])\n",
            "torch.Size([128, 784])\n",
            "128\n",
            "noise.shape torch.Size([128, 100])\n",
            "128\n",
            "torch.Size([128, 1, 28, 28])\n",
            "torch.Size([128, 784])\n",
            "128\n",
            "noise.shape torch.Size([128, 100])\n",
            "128\n",
            "torch.Size([128, 1, 28, 28])\n",
            "torch.Size([128, 784])\n",
            "128\n",
            "noise.shape torch.Size([128, 100])\n",
            "128\n",
            "torch.Size([128, 1, 28, 28])\n",
            "torch.Size([128, 784])\n",
            "128\n",
            "noise.shape torch.Size([128, 100])\n",
            "128\n",
            "torch.Size([128, 1, 28, 28])\n",
            "torch.Size([128, 784])\n",
            "128\n",
            "noise.shape torch.Size([128, 100])\n",
            "128\n",
            "torch.Size([128, 1, 28, 28])\n",
            "torch.Size([128, 784])\n",
            "128\n",
            "noise.shape torch.Size([128, 100])\n",
            "128\n",
            "torch.Size([128, 1, 28, 28])\n",
            "torch.Size([128, 784])\n",
            "128\n",
            "noise.shape torch.Size([128, 100])\n",
            "128\n",
            "torch.Size([128, 1, 28, 28])\n",
            "torch.Size([128, 784])\n",
            "128\n",
            "noise.shape torch.Size([128, 100])\n",
            "128\n",
            "torch.Size([128, 1, 28, 28])\n",
            "torch.Size([128, 784])\n",
            "128\n",
            "noise.shape torch.Size([128, 100])\n",
            "128\n",
            "torch.Size([128, 1, 28, 28])\n",
            "torch.Size([128, 784])\n",
            "128\n",
            "noise.shape torch.Size([128, 100])\n",
            "128\n",
            "torch.Size([128, 1, 28, 28])\n",
            "torch.Size([128, 784])\n",
            "128\n",
            "noise.shape torch.Size([128, 100])\n",
            "128\n",
            "torch.Size([128, 1, 28, 28])\n",
            "torch.Size([128, 784])\n",
            "128\n",
            "noise.shape torch.Size([128, 100])\n",
            "128\n",
            "torch.Size([128, 1, 28, 28])\n",
            "torch.Size([128, 784])\n",
            "128\n",
            "noise.shape torch.Size([128, 100])\n",
            "128\n",
            "torch.Size([128, 1, 28, 28])\n",
            "torch.Size([128, 784])\n",
            "128\n",
            "noise.shape torch.Size([128, 100])\n",
            "128\n",
            "torch.Size([128, 1, 28, 28])\n",
            "torch.Size([128, 784])\n",
            "128\n",
            "noise.shape torch.Size([128, 100])\n",
            "128\n",
            "torch.Size([128, 1, 28, 28])\n",
            "torch.Size([128, 784])\n",
            "128\n",
            "noise.shape torch.Size([128, 100])\n",
            "128\n",
            "torch.Size([128, 1, 28, 28])\n",
            "torch.Size([128, 784])\n",
            "128\n",
            "noise.shape torch.Size([128, 100])\n",
            "128\n",
            "torch.Size([128, 1, 28, 28])\n",
            "torch.Size([128, 784])\n",
            "128\n",
            "noise.shape torch.Size([128, 100])\n",
            "128\n",
            "torch.Size([128, 1, 28, 28])\n",
            "torch.Size([128, 784])\n",
            "128\n",
            "noise.shape torch.Size([128, 100])\n",
            "128\n",
            "torch.Size([128, 1, 28, 28])\n",
            "torch.Size([128, 784])\n",
            "128\n",
            "noise.shape torch.Size([128, 100])\n",
            "128\n",
            "torch.Size([128, 1, 28, 28])\n",
            "torch.Size([128, 784])\n",
            "128\n",
            "noise.shape torch.Size([128, 100])\n",
            "128\n",
            "torch.Size([128, 1, 28, 28])\n",
            "torch.Size([128, 784])\n",
            "128\n",
            "noise.shape torch.Size([128, 100])\n",
            "128\n",
            "torch.Size([128, 1, 28, 28])\n",
            "torch.Size([128, 784])\n",
            "128\n",
            "noise.shape torch.Size([128, 100])\n",
            "128\n",
            "torch.Size([128, 1, 28, 28])\n",
            "torch.Size([128, 784])\n",
            "128\n",
            "noise.shape torch.Size([128, 100])\n",
            "128\n",
            "torch.Size([128, 1, 28, 28])\n",
            "torch.Size([128, 784])\n",
            "128\n",
            "noise.shape torch.Size([128, 100])\n",
            "128\n",
            "torch.Size([128, 1, 28, 28])\n",
            "torch.Size([128, 784])\n",
            "128\n",
            "noise.shape torch.Size([128, 100])\n",
            "128\n",
            "torch.Size([128, 1, 28, 28])\n",
            "torch.Size([128, 784])\n",
            "128\n",
            "noise.shape torch.Size([128, 100])\n",
            "128\n",
            "torch.Size([128, 1, 28, 28])\n",
            "torch.Size([128, 784])\n",
            "128\n",
            "noise.shape torch.Size([128, 100])\n",
            "128\n",
            "torch.Size([128, 1, 28, 28])\n",
            "torch.Size([128, 784])\n",
            "128\n",
            "noise.shape torch.Size([128, 100])\n",
            "128\n",
            "torch.Size([128, 1, 28, 28])\n",
            "torch.Size([128, 784])\n",
            "128\n",
            "noise.shape torch.Size([128, 100])\n",
            "128\n",
            "torch.Size([128, 1, 28, 28])\n",
            "torch.Size([128, 784])\n",
            "128\n",
            "noise.shape torch.Size([128, 100])\n",
            "128\n",
            "torch.Size([128, 1, 28, 28])\n",
            "torch.Size([128, 784])\n",
            "128\n",
            "noise.shape torch.Size([128, 100])\n",
            "128\n",
            "torch.Size([128, 1, 28, 28])\n",
            "torch.Size([128, 784])\n",
            "128\n",
            "noise.shape torch.Size([128, 100])\n",
            "128\n",
            "torch.Size([128, 1, 28, 28])\n",
            "torch.Size([128, 784])\n",
            "128\n",
            "noise.shape torch.Size([128, 100])\n",
            "128\n",
            "torch.Size([128, 1, 28, 28])\n",
            "torch.Size([128, 784])\n",
            "128\n",
            "noise.shape torch.Size([128, 100])\n",
            "128\n",
            "torch.Size([128, 1, 28, 28])\n",
            "torch.Size([128, 784])\n",
            "128\n",
            "noise.shape torch.Size([128, 100])\n",
            "128\n",
            "torch.Size([128, 1, 28, 28])\n",
            "torch.Size([128, 784])\n",
            "128\n",
            "noise.shape torch.Size([128, 100])\n",
            "128\n",
            "torch.Size([128, 1, 28, 28])\n",
            "torch.Size([128, 784])\n",
            "128\n",
            "noise.shape torch.Size([128, 100])\n",
            "128\n",
            "torch.Size([128, 1, 28, 28])\n",
            "torch.Size([128, 784])\n",
            "128\n",
            "noise.shape torch.Size([128, 100])\n",
            "128\n",
            "torch.Size([128, 1, 28, 28])\n",
            "torch.Size([128, 784])\n",
            "128\n",
            "noise.shape torch.Size([128, 100])\n"
          ]
        },
        {
          "output_type": "error",
          "ename": "KeyboardInterrupt",
          "evalue": "",
          "traceback": [
            "\u001b[0;31m---------------------------------------------------------------------------\u001b[0m",
            "\u001b[0;31mKeyboardInterrupt\u001b[0m                         Traceback (most recent call last)",
            "\u001b[0;32m<ipython-input-18-a5c091a7cbdd>\u001b[0m in \u001b[0;36m<cell line: 7>\u001b[0;34m()\u001b[0m\n\u001b[1;32m     25\u001b[0m     \u001b[0mprint\u001b[0m\u001b[0;34m(\u001b[0m\u001b[0mn\u001b[0m\u001b[0;34m)\u001b[0m\u001b[0;34m\u001b[0m\u001b[0;34m\u001b[0m\u001b[0m\n\u001b[1;32m     26\u001b[0m     \u001b[0mprint\u001b[0m\u001b[0;34m(\u001b[0m\u001b[0;34m'noise.shape'\u001b[0m\u001b[0;34m,\u001b[0m\u001b[0mnoise\u001b[0m\u001b[0;34m.\u001b[0m\u001b[0mshape\u001b[0m\u001b[0;34m)\u001b[0m\u001b[0;34m\u001b[0m\u001b[0;34m\u001b[0m\u001b[0m\n\u001b[0;32m---> 27\u001b[0;31m     \u001b[0mfake_images\u001b[0m \u001b[0;34m=\u001b[0m \u001b[0mG\u001b[0m\u001b[0;34m(\u001b[0m\u001b[0mnoise\u001b[0m\u001b[0;34m)\u001b[0m\u001b[0;34m\u001b[0m\u001b[0;34m\u001b[0m\u001b[0m\n\u001b[0m\u001b[1;32m     28\u001b[0m     \u001b[0mfake_outputs\u001b[0m \u001b[0;34m=\u001b[0m \u001b[0mD\u001b[0m\u001b[0;34m(\u001b[0m\u001b[0mfake_images\u001b[0m\u001b[0;34m)\u001b[0m\u001b[0;34m\u001b[0m\u001b[0;34m\u001b[0m\u001b[0m\n\u001b[1;32m     29\u001b[0m \u001b[0;34m\u001b[0m\u001b[0m\n",
            "\u001b[0;32m/usr/local/lib/python3.10/dist-packages/torch/nn/modules/module.py\u001b[0m in \u001b[0;36m_wrapped_call_impl\u001b[0;34m(self, *args, **kwargs)\u001b[0m\n\u001b[1;32m   1530\u001b[0m             \u001b[0;32mreturn\u001b[0m \u001b[0mself\u001b[0m\u001b[0;34m.\u001b[0m\u001b[0m_compiled_call_impl\u001b[0m\u001b[0;34m(\u001b[0m\u001b[0;34m*\u001b[0m\u001b[0margs\u001b[0m\u001b[0;34m,\u001b[0m \u001b[0;34m**\u001b[0m\u001b[0mkwargs\u001b[0m\u001b[0;34m)\u001b[0m  \u001b[0;31m# type: ignore[misc]\u001b[0m\u001b[0;34m\u001b[0m\u001b[0;34m\u001b[0m\u001b[0m\n\u001b[1;32m   1531\u001b[0m         \u001b[0;32melse\u001b[0m\u001b[0;34m:\u001b[0m\u001b[0;34m\u001b[0m\u001b[0;34m\u001b[0m\u001b[0m\n\u001b[0;32m-> 1532\u001b[0;31m             \u001b[0;32mreturn\u001b[0m \u001b[0mself\u001b[0m\u001b[0;34m.\u001b[0m\u001b[0m_call_impl\u001b[0m\u001b[0;34m(\u001b[0m\u001b[0;34m*\u001b[0m\u001b[0margs\u001b[0m\u001b[0;34m,\u001b[0m \u001b[0;34m**\u001b[0m\u001b[0mkwargs\u001b[0m\u001b[0;34m)\u001b[0m\u001b[0;34m\u001b[0m\u001b[0;34m\u001b[0m\u001b[0m\n\u001b[0m\u001b[1;32m   1533\u001b[0m \u001b[0;34m\u001b[0m\u001b[0m\n\u001b[1;32m   1534\u001b[0m     \u001b[0;32mdef\u001b[0m \u001b[0m_call_impl\u001b[0m\u001b[0;34m(\u001b[0m\u001b[0mself\u001b[0m\u001b[0;34m,\u001b[0m \u001b[0;34m*\u001b[0m\u001b[0margs\u001b[0m\u001b[0;34m,\u001b[0m \u001b[0;34m**\u001b[0m\u001b[0mkwargs\u001b[0m\u001b[0;34m)\u001b[0m\u001b[0;34m:\u001b[0m\u001b[0;34m\u001b[0m\u001b[0;34m\u001b[0m\u001b[0m\n",
            "\u001b[0;32m/usr/local/lib/python3.10/dist-packages/torch/nn/modules/module.py\u001b[0m in \u001b[0;36m_call_impl\u001b[0;34m(self, *args, **kwargs)\u001b[0m\n\u001b[1;32m   1539\u001b[0m                 \u001b[0;32mor\u001b[0m \u001b[0m_global_backward_pre_hooks\u001b[0m \u001b[0;32mor\u001b[0m \u001b[0m_global_backward_hooks\u001b[0m\u001b[0;34m\u001b[0m\u001b[0;34m\u001b[0m\u001b[0m\n\u001b[1;32m   1540\u001b[0m                 or _global_forward_hooks or _global_forward_pre_hooks):\n\u001b[0;32m-> 1541\u001b[0;31m             \u001b[0;32mreturn\u001b[0m \u001b[0mforward_call\u001b[0m\u001b[0;34m(\u001b[0m\u001b[0;34m*\u001b[0m\u001b[0margs\u001b[0m\u001b[0;34m,\u001b[0m \u001b[0;34m**\u001b[0m\u001b[0mkwargs\u001b[0m\u001b[0;34m)\u001b[0m\u001b[0;34m\u001b[0m\u001b[0;34m\u001b[0m\u001b[0m\n\u001b[0m\u001b[1;32m   1542\u001b[0m \u001b[0;34m\u001b[0m\u001b[0m\n\u001b[1;32m   1543\u001b[0m         \u001b[0;32mtry\u001b[0m\u001b[0;34m:\u001b[0m\u001b[0;34m\u001b[0m\u001b[0;34m\u001b[0m\u001b[0m\n",
            "\u001b[0;32m/usr/local/lib/python3.10/dist-packages/torch/nn/modules/container.py\u001b[0m in \u001b[0;36mforward\u001b[0;34m(self, input)\u001b[0m\n\u001b[1;32m    215\u001b[0m     \u001b[0;32mdef\u001b[0m \u001b[0mforward\u001b[0m\u001b[0;34m(\u001b[0m\u001b[0mself\u001b[0m\u001b[0;34m,\u001b[0m \u001b[0minput\u001b[0m\u001b[0;34m)\u001b[0m\u001b[0;34m:\u001b[0m\u001b[0;34m\u001b[0m\u001b[0;34m\u001b[0m\u001b[0m\n\u001b[1;32m    216\u001b[0m         \u001b[0;32mfor\u001b[0m \u001b[0mmodule\u001b[0m \u001b[0;32min\u001b[0m \u001b[0mself\u001b[0m\u001b[0;34m:\u001b[0m\u001b[0;34m\u001b[0m\u001b[0;34m\u001b[0m\u001b[0m\n\u001b[0;32m--> 217\u001b[0;31m             \u001b[0minput\u001b[0m \u001b[0;34m=\u001b[0m \u001b[0mmodule\u001b[0m\u001b[0;34m(\u001b[0m\u001b[0minput\u001b[0m\u001b[0;34m)\u001b[0m\u001b[0;34m\u001b[0m\u001b[0;34m\u001b[0m\u001b[0m\n\u001b[0m\u001b[1;32m    218\u001b[0m         \u001b[0;32mreturn\u001b[0m \u001b[0minput\u001b[0m\u001b[0;34m\u001b[0m\u001b[0;34m\u001b[0m\u001b[0m\n\u001b[1;32m    219\u001b[0m \u001b[0;34m\u001b[0m\u001b[0m\n",
            "\u001b[0;32m/usr/local/lib/python3.10/dist-packages/torch/nn/modules/module.py\u001b[0m in \u001b[0;36m_wrapped_call_impl\u001b[0;34m(self, *args, **kwargs)\u001b[0m\n\u001b[1;32m   1530\u001b[0m             \u001b[0;32mreturn\u001b[0m \u001b[0mself\u001b[0m\u001b[0;34m.\u001b[0m\u001b[0m_compiled_call_impl\u001b[0m\u001b[0;34m(\u001b[0m\u001b[0;34m*\u001b[0m\u001b[0margs\u001b[0m\u001b[0;34m,\u001b[0m \u001b[0;34m**\u001b[0m\u001b[0mkwargs\u001b[0m\u001b[0;34m)\u001b[0m  \u001b[0;31m# type: ignore[misc]\u001b[0m\u001b[0;34m\u001b[0m\u001b[0;34m\u001b[0m\u001b[0m\n\u001b[1;32m   1531\u001b[0m         \u001b[0;32melse\u001b[0m\u001b[0;34m:\u001b[0m\u001b[0;34m\u001b[0m\u001b[0;34m\u001b[0m\u001b[0m\n\u001b[0;32m-> 1532\u001b[0;31m             \u001b[0;32mreturn\u001b[0m \u001b[0mself\u001b[0m\u001b[0;34m.\u001b[0m\u001b[0m_call_impl\u001b[0m\u001b[0;34m(\u001b[0m\u001b[0;34m*\u001b[0m\u001b[0margs\u001b[0m\u001b[0;34m,\u001b[0m \u001b[0;34m**\u001b[0m\u001b[0mkwargs\u001b[0m\u001b[0;34m)\u001b[0m\u001b[0;34m\u001b[0m\u001b[0;34m\u001b[0m\u001b[0m\n\u001b[0m\u001b[1;32m   1533\u001b[0m \u001b[0;34m\u001b[0m\u001b[0m\n\u001b[1;32m   1534\u001b[0m     \u001b[0;32mdef\u001b[0m \u001b[0m_call_impl\u001b[0m\u001b[0;34m(\u001b[0m\u001b[0mself\u001b[0m\u001b[0;34m,\u001b[0m \u001b[0;34m*\u001b[0m\u001b[0margs\u001b[0m\u001b[0;34m,\u001b[0m \u001b[0;34m**\u001b[0m\u001b[0mkwargs\u001b[0m\u001b[0;34m)\u001b[0m\u001b[0;34m:\u001b[0m\u001b[0;34m\u001b[0m\u001b[0;34m\u001b[0m\u001b[0m\n",
            "\u001b[0;32m/usr/local/lib/python3.10/dist-packages/torch/nn/modules/module.py\u001b[0m in \u001b[0;36m_call_impl\u001b[0;34m(self, *args, **kwargs)\u001b[0m\n\u001b[1;32m   1539\u001b[0m                 \u001b[0;32mor\u001b[0m \u001b[0m_global_backward_pre_hooks\u001b[0m \u001b[0;32mor\u001b[0m \u001b[0m_global_backward_hooks\u001b[0m\u001b[0;34m\u001b[0m\u001b[0;34m\u001b[0m\u001b[0m\n\u001b[1;32m   1540\u001b[0m                 or _global_forward_hooks or _global_forward_pre_hooks):\n\u001b[0;32m-> 1541\u001b[0;31m             \u001b[0;32mreturn\u001b[0m \u001b[0mforward_call\u001b[0m\u001b[0;34m(\u001b[0m\u001b[0;34m*\u001b[0m\u001b[0margs\u001b[0m\u001b[0;34m,\u001b[0m \u001b[0;34m**\u001b[0m\u001b[0mkwargs\u001b[0m\u001b[0;34m)\u001b[0m\u001b[0;34m\u001b[0m\u001b[0;34m\u001b[0m\u001b[0m\n\u001b[0m\u001b[1;32m   1542\u001b[0m \u001b[0;34m\u001b[0m\u001b[0m\n\u001b[1;32m   1543\u001b[0m         \u001b[0;32mtry\u001b[0m\u001b[0;34m:\u001b[0m\u001b[0;34m\u001b[0m\u001b[0;34m\u001b[0m\u001b[0m\n",
            "\u001b[0;32m/usr/local/lib/python3.10/dist-packages/torch/nn/modules/activation.py\u001b[0m in \u001b[0;36mforward\u001b[0;34m(self, input)\u001b[0m\n\u001b[1;32m    355\u001b[0m \u001b[0;34m\u001b[0m\u001b[0m\n\u001b[1;32m    356\u001b[0m     \u001b[0;32mdef\u001b[0m \u001b[0mforward\u001b[0m\u001b[0;34m(\u001b[0m\u001b[0mself\u001b[0m\u001b[0;34m,\u001b[0m \u001b[0minput\u001b[0m\u001b[0;34m:\u001b[0m \u001b[0mTensor\u001b[0m\u001b[0;34m)\u001b[0m \u001b[0;34m->\u001b[0m \u001b[0mTensor\u001b[0m\u001b[0;34m:\u001b[0m\u001b[0;34m\u001b[0m\u001b[0;34m\u001b[0m\u001b[0m\n\u001b[0;32m--> 357\u001b[0;31m         \u001b[0;32mreturn\u001b[0m \u001b[0mtorch\u001b[0m\u001b[0;34m.\u001b[0m\u001b[0mtanh\u001b[0m\u001b[0;34m(\u001b[0m\u001b[0minput\u001b[0m\u001b[0;34m)\u001b[0m\u001b[0;34m\u001b[0m\u001b[0;34m\u001b[0m\u001b[0m\n\u001b[0m\u001b[1;32m    358\u001b[0m \u001b[0;34m\u001b[0m\u001b[0m\n\u001b[1;32m    359\u001b[0m \u001b[0;32mclass\u001b[0m \u001b[0mSiLU\u001b[0m\u001b[0;34m(\u001b[0m\u001b[0mModule\u001b[0m\u001b[0;34m)\u001b[0m\u001b[0;34m:\u001b[0m\u001b[0;34m\u001b[0m\u001b[0;34m\u001b[0m\u001b[0m\n",
            "\u001b[0;31mKeyboardInterrupt\u001b[0m: "
          ]
        }
      ]
    },
    {
      "cell_type": "code",
      "source": [
        "plt.plot(d_losses)\n",
        "plt.plot(g_losses)\n",
        "plt.legend()\n",
        "plt.show()"
      ],
      "metadata": {
        "id": "MWFPWZTjaZrD"
      },
      "execution_count": null,
      "outputs": []
    },
    {
      "cell_type": "code",
      "source": [],
      "metadata": {
        "id": "aSAETodbY6hi"
      },
      "execution_count": null,
      "outputs": []
    }
  ]
}