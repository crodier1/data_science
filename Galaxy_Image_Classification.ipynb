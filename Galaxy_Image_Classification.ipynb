{
  "nbformat": 4,
  "nbformat_minor": 0,
  "metadata": {
    "colab": {
      "provenance": [],
      "authorship_tag": "ABX9TyOehTUqUHXGsL5uFQjDN0tu",
      "include_colab_link": true
    },
    "kernelspec": {
      "name": "python3",
      "display_name": "Python 3"
    },
    "language_info": {
      "name": "python"
    }
  },
  "cells": [
    {
      "cell_type": "markdown",
      "metadata": {
        "id": "view-in-github",
        "colab_type": "text"
      },
      "source": [
        "<a href=\"https://colab.research.google.com/github/crodier1/data_science/blob/main/Galaxy_Image_Classification.ipynb\" target=\"_parent\"><img src=\"https://colab.research.google.com/assets/colab-badge.svg\" alt=\"Open In Colab\"/></a>"
      ]
    },
    {
      "cell_type": "code",
      "execution_count": null,
      "metadata": {
        "id": "1s5DOavBNDKS"
      },
      "outputs": [],
      "source": [
        "import requests\n",
        "import io\n",
        "import numpy as np\n",
        "import os\n",
        "\n",
        "#Loads data from url\n",
        "def make_request(url):\n",
        "    print(\"Requesting data from {}...\".format(url))\n",
        "    response = requests.get('https://content.codecademy.com/courses/deeplearning-with-tensorflow/'+url)\n",
        "    response.raise_for_status()\n",
        "    response_data = io.BytesIO(response.content)\n",
        "    return response_data\n",
        "    \n",
        "#Loads galaxy data\n",
        "def load_galaxy_data():\n",
        "  \n",
        "  #If cached file not found, loads data from url\n",
        "  if not os.path.isfile('./cached_data.npz'):\n",
        "     response_data = make_request(url='galaxydata.npz')\n",
        "\n",
        "     with open(\"cached_data.npz\",\"wb\") as save_file:\n",
        "      save_file.write(response_data.read())\n",
        " \n",
        "  #Load data using NumPy\n",
        "  data = np.load('cached_data.npz')\n",
        "\n",
        "  print(\"Successfully loaded galaxy data!\")\n",
        "  \n",
        "  return data[\"data\"],data[\"labels\"]"
      ]
    },
    {
      "cell_type": "code",
      "source": [
        "import tensorflow as tf\n",
        "from tensorflow.keras.preprocessing.image import ImageDataGenerator\n",
        "from tensorflow.keras import regularizers\n",
        "\n",
        "from sklearn.model_selection import train_test_split\n",
        "\n",
        "input_data, labels = load_galaxy_data()"
      ],
      "metadata": {
        "colab": {
          "base_uri": "https://localhost:8080/"
        },
        "id": "8CTBMXeScjrx",
        "outputId": "a9b57d0c-5dfe-4b80-e40f-3de1dc29ce46"
      },
      "execution_count": null,
      "outputs": [
        {
          "output_type": "stream",
          "name": "stdout",
          "text": [
            "Successfully loaded galaxy data!\n"
          ]
        }
      ]
    },
    {
      "cell_type": "code",
      "source": [
        "print('Input_shape =',input_data.shape)\n",
        "print('labels =',labels.shape)"
      ],
      "metadata": {
        "colab": {
          "base_uri": "https://localhost:8080/"
        },
        "id": "wunBEmLwc0vw",
        "outputId": "8c9eddc6-4d93-4e28-e468-e478b07fe671"
      },
      "execution_count": null,
      "outputs": [
        {
          "output_type": "stream",
          "name": "stdout",
          "text": [
            "Input_shape = (1400, 128, 128, 3)\n",
            "labels = (1400, 4)\n"
          ]
        }
      ]
    },
    {
      "cell_type": "code",
      "source": [
        "X_train, X_test, y_train, y_test = train_test_split(input_data, labels, test_size=0.2, random_state=222, stratify=labels)"
      ],
      "metadata": {
        "id": "sMzsRjg0dM53"
      },
      "execution_count": null,
      "outputs": []
    },
    {
      "cell_type": "code",
      "source": [
        "training_data_generator = ImageDataGenerator(rescale=1./255 \n",
        "        ,zoom_range=0.2,\n",
        "        rotation_range=15,\n",
        "        width_shift_range=0.05,\n",
        "        height_shift_range=0.05\n",
        "                                             )"
      ],
      "metadata": {
        "id": "vqWr56IReA1B"
      },
      "execution_count": null,
      "outputs": []
    },
    {
      "cell_type": "code",
      "source": [
        "BATCH_SIZE = 32\n",
        "\n",
        "training_iterator = training_data_generator.flow(X_train, y_train, batch_size=BATCH_SIZE)"
      ],
      "metadata": {
        "id": "BPkyHb3uhgmi"
      },
      "execution_count": null,
      "outputs": []
    },
    {
      "cell_type": "code",
      "source": [
        "X_train.shape"
      ],
      "metadata": {
        "id": "AG-xqaGhclHw",
        "outputId": "da26802b-8c4a-4f1a-b52f-a62f006533bc",
        "colab": {
          "base_uri": "https://localhost:8080/"
        }
      },
      "execution_count": null,
      "outputs": [
        {
          "output_type": "execute_result",
          "data": {
            "text/plain": [
              "(1120, 128, 128, 3)"
            ]
          },
          "metadata": {},
          "execution_count": 160
        }
      ]
    },
    {
      "cell_type": "code",
      "source": [
        "validation_iterator = training_data_generator.flow(X_test, y_test, batch_size=BATCH_SIZE)"
      ],
      "metadata": {
        "id": "n4z6VevigDa4"
      },
      "execution_count": null,
      "outputs": []
    },
    {
      "cell_type": "code",
      "source": [
        "model = tf.keras.Sequential()\n",
        "\n",
        "model.add(tf.keras.Input(shape=input_data.shape[1:]))\n",
        "\n",
        "model.add(tf.keras.layers.Conv2D(8, 3, strides=2, activation='relu'))\n",
        "\n",
        "model.add(tf.keras.layers.MaxPooling2D(pool_size=(2,2), strides =(2,2)))\n",
        "\n",
        "model.add(tf.keras.layers.Conv2D(8, 3, strides=2, activation='relu'))\n",
        "\n",
        "model.add(tf.keras.layers.MaxPooling2D(pool_size=(2,2), strides =(2,2)))\n",
        "\n",
        "model.add(tf.keras.layers.Flatten())\n",
        "\n",
        "model.add(tf.keras.layers.Dense(int(input_data.shape[1] * (1/3)),activation=\"relu\"))\n",
        "\n",
        "model.add(tf.keras.layers.Dense(128,activation=\"relu\"))\n",
        "\n",
        "model.add(tf.keras.layers.Dense(128,activation=\"relu\"))\n",
        "\n",
        "# model.add(tf.keras.layers.Dropout(.4))\n",
        "\n",
        "model.add(tf.keras.layers.Dense(4,activation=\"softmax\"))\n",
        "\n",
        "model.summary()"
      ],
      "metadata": {
        "id": "L327RZIQgDce",
        "colab": {
          "base_uri": "https://localhost:8080/"
        },
        "outputId": "878ec57b-99c5-47da-f1a5-05a810f81aa3"
      },
      "execution_count": null,
      "outputs": [
        {
          "output_type": "stream",
          "name": "stdout",
          "text": [
            "Model: \"sequential_14\"\n",
            "_________________________________________________________________\n",
            " Layer (type)                Output Shape              Param #   \n",
            "=================================================================\n",
            " conv2d_16 (Conv2D)          (None, 63, 63, 8)         224       \n",
            "                                                                 \n",
            " max_pooling2d_16 (MaxPoolin  (None, 31, 31, 8)        0         \n",
            " g2D)                                                            \n",
            "                                                                 \n",
            " conv2d_17 (Conv2D)          (None, 15, 15, 8)         584       \n",
            "                                                                 \n",
            " max_pooling2d_17 (MaxPoolin  (None, 7, 7, 8)          0         \n",
            " g2D)                                                            \n",
            "                                                                 \n",
            " flatten_14 (Flatten)        (None, 392)               0         \n",
            "                                                                 \n",
            " dense_41 (Dense)            (None, 42)                16506     \n",
            "                                                                 \n",
            " dense_42 (Dense)            (None, 128)               5504      \n",
            "                                                                 \n",
            " dense_43 (Dense)            (None, 128)               16512     \n",
            "                                                                 \n",
            " dense_44 (Dense)            (None, 4)                 516       \n",
            "                                                                 \n",
            "=================================================================\n",
            "Total params: 39,846\n",
            "Trainable params: 39,846\n",
            "Non-trainable params: 0\n",
            "_________________________________________________________________\n"
          ]
        }
      ]
    },
    {
      "cell_type": "code",
      "source": [
        "model.compile(\n",
        "   optimizer=tf.keras.optimizers.Adam(learning_rate=0.001),\n",
        "   loss=tf.keras.losses.CategoricalCrossentropy(),\n",
        "   metrics=['accuracy']\n",
        ")"
      ],
      "metadata": {
        "id": "xjlUo10Kj_AJ"
      },
      "execution_count": null,
      "outputs": []
    },
    {
      "cell_type": "code",
      "source": [
        "history = model.fit(training_iterator, steps_per_epoch=len(X_train)/BATCH_SIZE, epochs=25, validation_data= validation_iterator, validation_steps= len(X_test)/BATCH_SIZE)"
      ],
      "metadata": {
        "id": "Uv_eQMkjkM09",
        "colab": {
          "base_uri": "https://localhost:8080/"
        },
        "outputId": "035db4ed-1303-4077-f4de-bbbc4029b1a0"
      },
      "execution_count": null,
      "outputs": [
        {
          "output_type": "stream",
          "name": "stdout",
          "text": [
            "Epoch 1/25\n",
            "35/35 [==============================] - 8s 199ms/step - loss: 1.3821 - accuracy: 0.2866 - val_loss: 1.3488 - val_accuracy: 0.4500\n",
            "Epoch 2/25\n",
            "35/35 [==============================] - 7s 192ms/step - loss: 1.2619 - accuracy: 0.4437 - val_loss: 1.0835 - val_accuracy: 0.5464\n",
            "Epoch 3/25\n",
            "35/35 [==============================] - 7s 190ms/step - loss: 1.1443 - accuracy: 0.5045 - val_loss: 1.0155 - val_accuracy: 0.6000\n",
            "Epoch 4/25\n",
            "35/35 [==============================] - 7s 190ms/step - loss: 1.0791 - accuracy: 0.5509 - val_loss: 0.9726 - val_accuracy: 0.6214\n",
            "Epoch 5/25\n",
            "35/35 [==============================] - 7s 190ms/step - loss: 1.0558 - accuracy: 0.5750 - val_loss: 1.0454 - val_accuracy: 0.5786\n",
            "Epoch 6/25\n",
            "35/35 [==============================] - 7s 191ms/step - loss: 1.0440 - accuracy: 0.5536 - val_loss: 0.9315 - val_accuracy: 0.6179\n",
            "Epoch 7/25\n",
            "35/35 [==============================] - 7s 191ms/step - loss: 1.0251 - accuracy: 0.5696 - val_loss: 0.9923 - val_accuracy: 0.5929\n",
            "Epoch 8/25\n",
            "35/35 [==============================] - 7s 191ms/step - loss: 0.9832 - accuracy: 0.6045 - val_loss: 0.8749 - val_accuracy: 0.6250\n",
            "Epoch 9/25\n",
            "35/35 [==============================] - 7s 192ms/step - loss: 0.9574 - accuracy: 0.6143 - val_loss: 0.8843 - val_accuracy: 0.6464\n",
            "Epoch 10/25\n",
            "35/35 [==============================] - 7s 192ms/step - loss: 0.9263 - accuracy: 0.6330 - val_loss: 0.8127 - val_accuracy: 0.6821\n",
            "Epoch 11/25\n",
            "35/35 [==============================] - 7s 190ms/step - loss: 0.9122 - accuracy: 0.6304 - val_loss: 0.8579 - val_accuracy: 0.6679\n",
            "Epoch 12/25\n",
            "35/35 [==============================] - 7s 192ms/step - loss: 0.8981 - accuracy: 0.6330 - val_loss: 0.9227 - val_accuracy: 0.6750\n",
            "Epoch 13/25\n",
            "35/35 [==============================] - 7s 190ms/step - loss: 0.8709 - accuracy: 0.6455 - val_loss: 0.8729 - val_accuracy: 0.6464\n",
            "Epoch 14/25\n",
            "35/35 [==============================] - 7s 191ms/step - loss: 0.8608 - accuracy: 0.6545 - val_loss: 0.7833 - val_accuracy: 0.6714\n",
            "Epoch 15/25\n",
            "35/35 [==============================] - 7s 192ms/step - loss: 0.8509 - accuracy: 0.6562 - val_loss: 0.8766 - val_accuracy: 0.6643\n",
            "Epoch 16/25\n",
            "35/35 [==============================] - 7s 191ms/step - loss: 0.7948 - accuracy: 0.6884 - val_loss: 0.7894 - val_accuracy: 0.7286\n",
            "Epoch 17/25\n",
            "35/35 [==============================] - 7s 190ms/step - loss: 0.8167 - accuracy: 0.6652 - val_loss: 0.7926 - val_accuracy: 0.7000\n",
            "Epoch 18/25\n",
            "35/35 [==============================] - 7s 191ms/step - loss: 0.8163 - accuracy: 0.6821 - val_loss: 0.7202 - val_accuracy: 0.7357\n",
            "Epoch 19/25\n",
            "35/35 [==============================] - 7s 191ms/step - loss: 0.7807 - accuracy: 0.6839 - val_loss: 0.8599 - val_accuracy: 0.6679\n",
            "Epoch 20/25\n",
            "35/35 [==============================] - 7s 191ms/step - loss: 0.8107 - accuracy: 0.6812 - val_loss: 0.8558 - val_accuracy: 0.6500\n",
            "Epoch 21/25\n",
            "35/35 [==============================] - 7s 192ms/step - loss: 0.7517 - accuracy: 0.7000 - val_loss: 0.7293 - val_accuracy: 0.7143\n",
            "Epoch 22/25\n",
            "35/35 [==============================] - 7s 191ms/step - loss: 0.7172 - accuracy: 0.7089 - val_loss: 0.7277 - val_accuracy: 0.7500\n",
            "Epoch 23/25\n",
            "35/35 [==============================] - 7s 190ms/step - loss: 0.7376 - accuracy: 0.7143 - val_loss: 0.7634 - val_accuracy: 0.7179\n",
            "Epoch 24/25\n",
            "35/35 [==============================] - 7s 191ms/step - loss: 0.7312 - accuracy: 0.7152 - val_loss: 0.8384 - val_accuracy: 0.6750\n",
            "Epoch 25/25\n",
            "35/35 [==============================] - 7s 191ms/step - loss: 0.7242 - accuracy: 0.7188 - val_loss: 0.7825 - val_accuracy: 0.7393\n"
          ]
        }
      ]
    },
    {
      "cell_type": "code",
      "source": [
        "import matplotlib.pyplot as plt\n",
        "\n",
        "plt.plot(history.history['accuracy'], label='Training Accuracy')\n",
        "plt.plot(history.history['val_accuracy'], label='Validation Accuracy')\n",
        "plt.legend()\n",
        "plt.show()"
      ],
      "metadata": {
        "colab": {
          "base_uri": "https://localhost:8080/",
          "height": 265
        },
        "id": "nENwxa-BRueu",
        "outputId": "34a65785-991e-4528-c727-58dc9fd05a0c"
      },
      "execution_count": null,
      "outputs": [
        {
          "output_type": "display_data",
          "data": {
            "text/plain": [
              "<Figure size 432x288 with 1 Axes>"
            ],
            "image/png": "[encoded data removed]"
          },
          "metadata": {
            "needs_background": "light"
          }
        }
      ]
    }
  ]
}