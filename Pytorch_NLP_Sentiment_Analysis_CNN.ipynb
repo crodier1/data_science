{
  "nbformat": 4,
  "nbformat_minor": 0,
  "metadata": {
    "colab": {
      "provenance": [],
      "authorship_tag": "ABX9TyOnmiKAD9p9K5ovzVNXwmCw",
      "include_colab_link": true
    },
    "kernelspec": {
      "name": "python3",
      "display_name": "Python 3"
    },
    "language_info": {
      "name": "python"
    }
  },
  "cells": [
    {
      "cell_type": "markdown",
      "metadata": {
        "id": "view-in-github",
        "colab_type": "text"
      },
      "source": [
        "<a href=\"https://colab.research.google.com/github/crodier1/data_science/blob/main/Pytorch_NLP_Sentiment_Analysis_CNN.ipynb\" target=\"_parent\"><img src=\"https://colab.research.google.com/assets/colab-badge.svg\" alt=\"Open In Colab\"/></a>"
      ]
    },
    {
      "cell_type": "code",
      "execution_count": null,
      "metadata": {
        "id": "yugLapgPD8Rr"
      },
      "outputs": [],
      "source": [
        "import torch\n",
        "import torch.nn as nn\n",
        "import torch.nn.functional as F\n",
        "import numpy as np\n",
        "import pandas as pd\n",
        "import matplotlib.pyplot as plt\n",
        "from datetime import datetime\n",
        "from sklearn.model_selection import train_test_split\n",
        "from sklearn.utils import shuffle"
      ]
    },
    {
      "cell_type": "code",
      "source": [
        "!wget -nc https://lazyprogrammer.me/course_files/exercises/AirlineSentimentTweets.csv"
      ],
      "metadata": {
        "colab": {
          "base_uri": "https://localhost:8080/"
        },
        "id": "WtGJaDiUD_MV",
        "outputId": "3b5807a9-b9a1-4602-f1c0-e41700334d2a"
      },
      "execution_count": null,
      "outputs": [
        {
          "output_type": "stream",
          "name": "stdout",
          "text": [
            "File ‘AirlineSentimentTweets.csv’ already there; not retrieving.\n",
            "\n"
          ]
        }
      ]
    },
    {
      "cell_type": "code",
      "source": [
        "df = pd.read_csv('AirlineSentimentTweets.csv')\n",
        "\n"
      ],
      "metadata": {
        "id": "9kMQoA09EFZt"
      },
      "execution_count": null,
      "outputs": []
    },
    {
      "cell_type": "code",
      "source": [
        "K = len(set(df['airline_sentiment']))\n",
        "K\n"
      ],
      "metadata": {
        "colab": {
          "base_uri": "https://localhost:8080/"
        },
        "id": "coK5p6rgHYAP",
        "outputId": "3ab928a6-9977-4c45-fa34-76c83503da4f"
      },
      "execution_count": null,
      "outputs": [
        {
          "output_type": "execute_result",
          "data": {
            "text/plain": [
              "3"
            ]
          },
          "metadata": {},
          "execution_count": 4
        }
      ]
    },
    {
      "cell_type": "code",
      "source": [
        "df['airline_sentiment'] = df['airline_sentiment'].map({'negative':0, 'neutral':1, 'positive':2})"
      ],
      "metadata": {
        "id": "R68qBQtzHodJ"
      },
      "execution_count": null,
      "outputs": []
    },
    {
      "cell_type": "code",
      "source": [
        "df2 = df[['text', 'airline_sentiment_confidence','airline_sentiment']]\n"
      ],
      "metadata": {
        "id": "JpWeIC3MHsbg"
      },
      "execution_count": null,
      "outputs": []
    },
    {
      "cell_type": "code",
      "source": [
        "df_train, df_test = train_test_split(df2, test_size=0.33)"
      ],
      "metadata": {
        "id": "omrmuJMuHyf6"
      },
      "execution_count": null,
      "outputs": []
    },
    {
      "cell_type": "code",
      "source": [
        "idx = 1\n",
        "word2idx = {'<PAD>': 0}"
      ],
      "metadata": {
        "id": "xOcw9MLlHy_J"
      },
      "execution_count": null,
      "outputs": []
    },
    {
      "cell_type": "code",
      "source": [
        "for i,row in df_train.iterrows():\n",
        "  for word in row['text'].lower().split(' '):\n",
        "    if word not in word2idx:\n",
        "      word2idx[word] = len(word2idx)"
      ],
      "metadata": {
        "id": "S12rH6_JH0w2"
      },
      "execution_count": null,
      "outputs": []
    },
    {
      "cell_type": "code",
      "source": [
        "def encode_sentence(doc):\n",
        "  sentences = []\n",
        "\n",
        "  for i,row in doc.iterrows():\n",
        "    sentence = [float(word2idx[word]) for word in row['text'].lower().split(' ') if word.lower() in word2idx]\n",
        "    sentence.append(row['airline_sentiment_confidence'])\n",
        "    sentences.append(sentence)\n",
        "\n",
        "\n",
        "  return sentences"
      ],
      "metadata": {
        "id": "TipsdvESH3Ea"
      },
      "execution_count": null,
      "outputs": []
    },
    {
      "cell_type": "code",
      "source": [
        "train_sentences = encode_sentence(df_train)\n",
        "test_sentences = encode_sentence(df_test)"
      ],
      "metadata": {
        "id": "jZSrd2YxsxLc"
      },
      "execution_count": null,
      "outputs": []
    },
    {
      "cell_type": "code",
      "source": [
        "def data_generator(X,y, batch_size=32):\n",
        "  X,y = shuffle(X,y)\n",
        "\n",
        "  b_batches = int(np.ceil(len(X)/ batch_size))\n",
        "\n",
        "  for i in range(b_batches):\n",
        "    end = min((i+1)*batch_size, len(X))\n",
        "    X_batch = X[i*batch_size:end]\n",
        "    y_batch = y[i*batch_size:end]\n",
        "\n",
        "    max_len = np.max([len(x) for x in X_batch])\n",
        "\n",
        "    for j in range(len(X_batch)):\n",
        "      x = X_batch[j]\n",
        "\n",
        "      pad = [0] * (max_len - len(x))\n",
        "      X_batch[j] = pad + x\n",
        "\n",
        "    X_batch = torch.from_numpy(np.array(X_batch)).long()\n",
        "    y_batch = torch.from_numpy(np.array(y_batch)).long()\n",
        "\n",
        "    yield X_batch, y_batch"
      ],
      "metadata": {
        "id": "9zcG1a54s1K6"
      },
      "execution_count": null,
      "outputs": []
    },
    {
      "cell_type": "code",
      "source": [
        "device= torch.device('cuda:0' if torch.cuda.is_available() else 'cpu')\n",
        "print(device)"
      ],
      "metadata": {
        "colab": {
          "base_uri": "https://localhost:8080/"
        },
        "id": "jJ6LJ9yas2x1",
        "outputId": "2fa17571-d6b8-49ac-f68e-04c3f97226a2"
      },
      "execution_count": null,
      "outputs": [
        {
          "output_type": "stream",
          "name": "stdout",
          "text": [
            "cpu\n"
          ]
        }
      ]
    },
    {
      "cell_type": "code",
      "source": [
        "train_gen = lambda: data_generator(train_sentences, df_train.airline_sentiment)\n",
        "test_gen = lambda: data_generator(test_sentences, df_test.airline_sentiment)"
      ],
      "metadata": {
        "id": "1mUlfAWPs5Jh"
      },
      "execution_count": null,
      "outputs": []
    },
    {
      "cell_type": "code",
      "source": [
        "class CNN(nn.Module):\n",
        "  def __init__(self, n_vocab, embed_size, n_outputs):\n",
        "    super(CNN, self).__init__()\n",
        "    self.V = n_vocab\n",
        "    self.D = embed_size\n",
        "    self.K = n_outputs\n",
        "\n",
        "    self.embed = nn.Embedding(self.V, self.D)\n",
        "\n",
        "    self.conv1 = nn.Conv1d(self.D, 32, 3,padding=1)\n",
        "    self.pool1 = nn.MaxPool1d(2)\n",
        "\n",
        "    self.conv2 = nn.Conv1d(32, 64, 3,padding=1)\n",
        "    self.pool2 = nn.MaxPool1d(2)\n",
        "\n",
        "    self.conv3 = nn.Conv1d(64, 128, 3,padding=1)\n",
        "\n",
        "    self.dropout = nn.Dropout(0.2)\n",
        "\n",
        "    self.fc = nn.Linear(128, self.K)\n",
        "\n",
        "  def forward(self, x):\n",
        "    out = self.embed(x)\n",
        "\n",
        "    out = out.permute(0,2,1)\n",
        "\n",
        "    out = self.conv1(out)\n",
        "    out = F.relu(out)\n",
        "    out = self.pool1(out)\n",
        "\n",
        "    out = self.conv2(out)\n",
        "    out = F.relu(out)\n",
        "    out = self.pool2(out)\n",
        "\n",
        "    out = self.conv3(out)\n",
        "    out = F.relu(out)\n",
        "\n",
        "    out = out.permute(0,2,1)\n",
        "\n",
        "    out, _ = torch.max(out, 1)\n",
        "\n",
        "    out = self.fc(out)\n",
        "\n",
        "    return out"
      ],
      "metadata": {
        "id": "HmLqrAaXs7uQ"
      },
      "execution_count": null,
      "outputs": []
    },
    {
      "cell_type": "code",
      "source": [
        "model = CNN(len(word2idx), 20, K)\n",
        "model.to(device)"
      ],
      "metadata": {
        "colab": {
          "base_uri": "https://localhost:8080/"
        },
        "id": "uECHgTjWs_gT",
        "outputId": "c3325b75-4ab1-40dd-c55b-603ceea5196a"
      },
      "execution_count": null,
      "outputs": [
        {
          "output_type": "execute_result",
          "data": {
            "text/plain": [
              "CNN(\n",
              "  (embed): Embedding(20770, 20)\n",
              "  (conv1): Conv1d(20, 32, kernel_size=(3,), stride=(1,), padding=(1,))\n",
              "  (pool1): MaxPool1d(kernel_size=2, stride=2, padding=0, dilation=1, ceil_mode=False)\n",
              "  (conv2): Conv1d(32, 64, kernel_size=(3,), stride=(1,), padding=(1,))\n",
              "  (pool2): MaxPool1d(kernel_size=2, stride=2, padding=0, dilation=1, ceil_mode=False)\n",
              "  (conv3): Conv1d(64, 128, kernel_size=(3,), stride=(1,), padding=(1,))\n",
              "  (dropout): Dropout(p=0.2, inplace=False)\n",
              "  (fc): Linear(in_features=128, out_features=3, bias=True)\n",
              ")"
            ]
          },
          "metadata": {},
          "execution_count": 16
        }
      ]
    },
    {
      "cell_type": "code",
      "source": [
        "criterion = nn.CrossEntropyLoss()\n",
        "optimizer = torch.optim.Adam(model.parameters())"
      ],
      "metadata": {
        "id": "dzdPN_RjtB4F"
      },
      "execution_count": null,
      "outputs": []
    },
    {
      "cell_type": "code",
      "source": [
        "def batch_gd(model, criterion, optimizer, epochs):\n",
        "  train_losses = np.zeros(epochs)\n",
        "  test_losses = np.zeros(epochs)\n",
        "\n",
        "  for it in range(epochs):\n",
        "    t0 = datetime.now()\n",
        "    train_loss = []\n",
        "\n",
        "    for inputs, targets in train_gen():\n",
        "\n",
        "      inputs, targets = inputs.to(device), targets.to(device)\n",
        "\n",
        "      optimizer.zero_grad()\n",
        "\n",
        "      outputs = model(inputs)\n",
        "\n",
        "      loss = criterion(outputs, targets)\n",
        "\n",
        "      loss.backward()\n",
        "      optimizer.step()\n",
        "\n",
        "      train_loss.append(loss.item())\n",
        "\n",
        "    test_loss = []\n",
        "\n",
        "    for inputs, targets in test_gen():\n",
        "\n",
        "      inputs, targets = inputs.to(device), targets.to(device)\n",
        "\n",
        "      outputs = model(inputs)\n",
        "\n",
        "      loss = criterion(outputs, targets)\n",
        "\n",
        "      test_loss.append(loss.item())\n",
        "\n",
        "    test_losses[it] = np.mean(test_loss)\n",
        "    train_losses[it] = np.mean(train_loss)\n",
        "\n",
        "    dt = datetime.now() - t0\n",
        "    print(f'Epoch {it+1}/{epochs}, Train Loss: {train_losses[it]:.4f}, Test Loss: {test_losses[it]:.4f}, Duration: {dt}')\n",
        "\n",
        "  return train_losses, test_losses"
      ],
      "metadata": {
        "id": "0psY-7hLtDtD"
      },
      "execution_count": null,
      "outputs": []
    },
    {
      "cell_type": "code",
      "source": [
        "train_losses, test_losses = batch_gd(model, criterion, optimizer, 10)"
      ],
      "metadata": {
        "colab": {
          "base_uri": "https://localhost:8080/"
        },
        "id": "-XmLdjxbtFgv",
        "outputId": "d05f4753-2559-4bb1-8126-dc33d6afbbdf"
      },
      "execution_count": null,
      "outputs": [
        {
          "output_type": "stream",
          "name": "stdout",
          "text": [
            "Epoch 1/10, Train Loss: 0.8356, Test Loss: 0.7840, Duration: 0:00:04.842005\n",
            "Epoch 2/10, Train Loss: 0.7469, Test Loss: 0.6988, Duration: 0:00:03.779803\n",
            "Epoch 3/10, Train Loss: 0.6569, Test Loss: 0.6584, Duration: 0:00:04.029376\n",
            "Epoch 4/10, Train Loss: 0.5817, Test Loss: 0.6423, Duration: 0:00:04.633372\n",
            "Epoch 5/10, Train Loss: 0.5164, Test Loss: 0.6452, Duration: 0:00:03.813401\n",
            "Epoch 6/10, Train Loss: 0.4599, Test Loss: 0.6330, Duration: 0:00:03.734472\n",
            "Epoch 7/10, Train Loss: 0.4070, Test Loss: 0.6604, Duration: 0:00:05.153693\n",
            "Epoch 8/10, Train Loss: 0.3564, Test Loss: 0.6849, Duration: 0:00:03.901289\n",
            "Epoch 9/10, Train Loss: 0.3071, Test Loss: 0.7197, Duration: 0:00:03.749168\n",
            "Epoch 10/10, Train Loss: 0.2698, Test Loss: 0.7588, Duration: 0:00:04.712462\n"
          ]
        }
      ]
    },
    {
      "cell_type": "code",
      "source": [
        "plt.plot(train_losses, label='Train Loss')\n",
        "plt.plot(test_losses, label='Test Test')\n",
        "plt.legend()\n",
        "plt.show()"
      ],
      "metadata": {
        "colab": {
          "base_uri": "https://localhost:8080/",
          "height": 430
        },
        "id": "pLWDw_BYtIia",
        "outputId": "48b4985f-9d2f-40cb-99b2-d3f265cb38d2"
      },
      "execution_count": null,
      "outputs": [
        {
          "output_type": "display_data",
          "data": {
            "text/plain": [
              "<Figure size 640x480 with 1 Axes>"
            ],
            "image/png": "[encoded data removed]"
          },
          "metadata": {}
        }
      ]
    },
    {
      "cell_type": "code",
      "source": [
        "                                                                                                                                                                                                                                n_correct = 0\n",
        "n_total = 0\n",
        "\n",
        "for inputs, targets in train_gen():\n",
        "  targets = targets.view(-1, 1).float()\n",
        "  inputs, targets = inputs.to(device), targets.to(device)\n",
        "\n",
        "  outputs = model(inputs)\n",
        "\n",
        "  predictions = np.argmax(outputs.detach().numpy(), axis=1)\n",
        "  n_correct += (predictions == list(targets.flatten())).sum().item()\n",
        "  n_total += targets.shape[0]\n",
        "\n",
        "\n",
        "train_acc = n_correct / n_total\n",
        "print(f'Train Accuracy: {train_acc:.4f}')\n",
        "\n",
        "test_n_correct = 0\n",
        "test_n_total = 0\n",
        "\n",
        "all_predictions = []\n",
        "\n",
        "for inputs, targets in test_gen():\n",
        "  targets = targets.view(-1, 1).float()\n",
        "  inputs, targets = inputs.to(device), targets.to(device)\n",
        "\n",
        "  outputs = model(inputs)\n",
        "\n",
        "  predictions = np.argmax(outputs.detach().numpy(), axis=1)\n",
        "  all_predictions += list(predictions)\n",
        "  test_n_correct += (predictions == list(targets.flatten())).sum().item()\n",
        "  test_n_total += targets.shape[0]\n",
        "\n",
        "test_acc = test_n_correct / test_n_total\n",
        "print(f'Test Accuracy: {test_acc:.4f}')"
      ],
      "metadata": {
        "colab": {
          "base_uri": "https://localhost:8080/"
        },
        "id": "2KhF_KQ8t2wg",
        "outputId": "d94fd721-1695-4baf-a12b-40c5945b91ac"
      },
      "execution_count": null,
      "outputs": [
        {
          "output_type": "stream",
          "name": "stdout",
          "text": [
            "Train Accuracy: 0.9234\n",
            "Test Accuracy: 0.7473\n"
          ]
        }
      ]
    }
  ]
}